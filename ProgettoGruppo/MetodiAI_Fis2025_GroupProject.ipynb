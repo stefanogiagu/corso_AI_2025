{
  "nbformat": 4,
  "nbformat_minor": 0,
  "metadata": {
    "colab": {
      "provenance": [],
      "gpuType": "T4",
      "include_colab_link": true
    },
    "kernelspec": {
      "name": "python3",
      "display_name": "Python 3"
    },
    "accelerator": "GPU",
    "gpuClass": "standard"
  },
  "cells": [
    {
      "cell_type": "markdown",
      "metadata": {
        "id": "view-in-github",
        "colab_type": "text"
      },
      "source": [
        "<a href=\"https://colab.research.google.com/github/stefanogiagu/corso_AI_2025/blob/main/ProgettoGruppo/MetodiAI_Fis2025_GroupProject.ipynb\" target=\"_parent\"><img src=\"https://colab.research.google.com/assets/colab-badge.svg\" alt=\"Open In Colab\"/></a>"
      ]
    },
    {
      "cell_type": "markdown",
      "source": [
        "# Group Project 2024/25\n",
        "\n",
        "### Task ###\n",
        "\n",
        "Allenare un AE per Anomaly Detection in grado di riconoscere segnali prodotti da jeti adronici anomali in un reivelatore di fisica delle alte energie.\n",
        "\n",
        "Alle energie estreme del Large Hadron Collider, particelle massive possono essere prodotte con un tale boost di Lorentz da far sì che i loro decadimenti in adroni (getti adronici) risultino così collimati che le particelle prodotte si sovrappongono. Determinare se la sottostruttura di un getto osservato sia dovuta a una singola particella di bassa massa oppure a molteplici prodotti di decadimento di una particella di massa elevata è un problema cruciale nell’analisi dei dati del LHC. Gli approcci tradizionali si basano su osservabili di alto livello costruite a partire da modelli teorici di deposizione di energia nei calorimetri e da parametri delle tracce cariche ricostruite nel tracciatore interno, ma la complessità dei dati rende questo compito un candidato ideale per l’applicazione di strumenti di deep learning. I costituenti dei getti possono infatti essere rappresentati come immagini 2D in cui ogni pixel rappresenta una delle celle sensibili del calorimetro, e il contenuto della cella una misura dell'energia o della quantità di moto depositata nella cella.\n",
        "\n",
        "**Dataset:**\n",
        "\n",
        "I dati del progetto sono nella forma di immagini 2D di dimensione (100,100), ogni cella rappresenta l'energia depositata in quella cella dalle particelle del jet adronico corrispondente. Ci sono due tipologie di jet adronici consider ati: *jet normali*, costituiti dalla adronizzazione di un quark leggero o gluone, e *jet anomali* (disponibili in una frazione incognita solo nel test set) costituiti dall'adronizzazione dei quark nel decadimento $t \\to Wb \\to qq'b$, in cui a causa del boost del quark top, i tre quark nello stato finale sono parzialmente sovrapposti.\n",
        "\n",
        "* *Normal data dataset:* 12k jet rappresentati come histogrammi 2D della quantità di moto depositata in ciascuno dei 100x100 bin di una finestra quadrata nel piano ($\\theta,\\phi$) centrato intorno all'asse del jet.\n",
        "\n",
        "* *Test dataset:*\n",
        "due dataset costituiti ciascuno da 3k eventi, contenenti jet normali e jet anomali in una frazione relativa icognita da determinare. Nel primo dataset (*_high*) la frazione incognita di eventi anomali è $\\ge 55\\%$. Nel secondo dataset (*_low*) la frazione incognita di eventi anomali incognita è $\\le 45\\%$.\n",
        "Potete utilizzare questa informazione per verificare che le vostre predizioni soddisfino la relazione $f_{high} > f_{low}$.\n",
        "\n",
        "I dati sono forniti come array numpy in un file numpy compresso (.npz), leggibile con l'esempio di codice che segue:\n",
        "\n",
        "\n",
        "```\n",
        "import numpy as np\n",
        "\n",
        "f_train = np.load('Normal_data.npz')\n",
        "f_test_l = np.load('Test_data_low.npz')\n",
        "f_test_h = np.load('Test_data_high.npz')\n",
        "\n",
        "normal_data = f_train['normal_data']\n",
        "test_data_l = f_test_l['test_data']\n",
        "test_data_h = f_test_h['test_data']\n",
        "\n",
        "print(normal_data.shape)\n",
        "print(test_data_l.shape)\n",
        "print(test_data_h.shape)\n",
        "```\n",
        "\n",
        "**Per scaricare i dataset:**\n",
        "* dati normali:\n",
        "```\n",
        "!wget http://giagu.web.cern.ch/giagu/CERN/P2025/Normal_data.npz\n",
        "```\n",
        "* dati anomali:\n",
        "```\n",
        "!wget http://giagu.web.cern.ch/giagu/CERN/P2025/<Identificativo Dataset>/Test_data_low.npz\n",
        "!wget http://giagu.web.cern.ch/giagu/CERN/P2025/<Identificativo Dataset>/Test_data_high.npz\n",
        "```\n",
        "```\n",
        "# <Identificativo Dataset> dal foglio excel prenotazione gruppi\n",
        "```\n",
        "\n",
        "\n",
        "**Obiettivi minimi del progetto (potete a vostro piacimento aggiungere ulteriori analisi/studi:**\n",
        "\n",
        "1. Plot della rappresentazione latente delle immagini di test fatto con riduzione dimensionale.\n",
        "2. Stima della frazione di eventi anomali presente nei due Test dataset, tenendo conto che la di procedura di stima deve garantire che la rate di falsi postivi sia inferiore a circa il $10\\%$ (FPR $\\le \\sim 10\\%$).\n",
        "3. Clustering dello spazio (per esempio usando un algoritmo GMM).\n",
        "4. Misura della purezza dei cluster rispetto alle label assegnate in anomaly score.\n",
        "\n",
        "\n",
        "**Nota Importante:**\n",
        "\n",
        "Il notebook deve essere compilato come una relazione scientifica del progetto, quindi deve contenere sia il codice (leggibile e riproducibile), i risultati in termini di grafici e tabelle numeriche, e il testo che illustra la strategia ottenuta, le scelte compiute, e i risultati ottenuti.\n",
        "\n"
      ],
      "metadata": {
        "id": "8ix-CMEfVfV2"
      }
    },
    {
      "cell_type": "code",
      "source": [
        "# codice ..."
      ],
      "metadata": {
        "id": "gKykx92QJO18"
      },
      "execution_count": null,
      "outputs": []
    }
  ]
}