{
  "nbformat": 4,
  "nbformat_minor": 0,
  "metadata": {
    "colab": {
      "provenance": [],
      "include_colab_link": true
    },
    "kernelspec": {
      "name": "python3",
      "display_name": "Python 3"
    },
    "language_info": {
      "name": "python"
    }
  },
  "cells": [
    {
      "cell_type": "markdown",
      "metadata": {
        "id": "view-in-github",
        "colab_type": "text"
      },
      "source": [
        "<a href=\"https://colab.research.google.com/github/stefanogiagu/corso_AI_2025/blob/main/notebooks/es_27.3/ising_data_sklearn.ipynb\" target=\"_parent\"><img src=\"https://colab.research.google.com/assets/colab-badge.svg\" alt=\"Open In Colab\"/></a>"
      ]
    },
    {
      "cell_type": "code",
      "execution_count": null,
      "metadata": {
        "colab": {
          "base_uri": "https://localhost:8080/"
        },
        "id": "NI9RccNZmpyt",
        "outputId": "561d293b-e760-4a6e-d0ef-d25a02ae70ca"
      },
      "outputs": [
        {
          "output_type": "stream",
          "name": "stdout",
          "text": [
            "Mounted at /content/drive\n"
          ]
        }
      ],
      "source": [
        "import pickle\n",
        "import numpy as np\n",
        "import matplotlib.pyplot as plt\n",
        "from google.colab import drive\n",
        "drive.mount('/content/drive')\n",
        "#create ising folder"
      ]
    },
    {
      "cell_type": "code",
      "source": [
        "import os\n",
        "ising_folder = '/content/drive/MyDrive/ising_data'"
      ],
      "metadata": {
        "id": "1GA2IgexnNxM"
      },
      "execution_count": null,
      "outputs": []
    },
    {
      "cell_type": "code",
      "source": [
        "os.chdir(ising_folder)\n",
        "!pwd"
      ],
      "metadata": {
        "colab": {
          "base_uri": "https://localhost:8080/"
        },
        "id": "K6It4zXHvB0L",
        "outputId": "d44c2cbc-38be-47a0-cde6-c74e65ea1f25"
      },
      "execution_count": null,
      "outputs": [
        {
          "output_type": "stream",
          "name": "stdout",
          "text": [
            "/content/drive/MyDrive/ising_data\n"
          ]
        }
      ]
    },
    {
      "cell_type": "code",
      "source": [
        "#caricare i file pickle\n",
        "os.chdir(ising_folder)\n",
        "with open(\"ising_results_20x20.pkl\", \"rb\") as f:\n",
        "    data  = pickle.load(f)\n",
        "    results = data[\"results\"]"
      ],
      "metadata": {
        "id": "XM-wc_JZnXVp"
      },
      "execution_count": null,
      "outputs": []
    },
    {
      "cell_type": "code",
      "source": [
        "results[0]"
      ],
      "metadata": {
        "colab": {
          "base_uri": "https://localhost:8080/"
        },
        "id": "QBBj6_aHnu2J",
        "outputId": "8869d9ba-5bc4-4238-fbf7-8689a880df52"
      },
      "execution_count": null,
      "outputs": [
        {
          "output_type": "execute_result",
          "data": {
            "text/plain": [
              "{'initial_state': array([[-1,  1,  1, -1,  1,  1, -1,  1,  1,  1, -1,  1,  1,  1, -1,  1,\n",
              "          1, -1, -1,  1],\n",
              "        [-1,  1, -1,  1, -1,  1,  1,  1,  1, -1,  1,  1,  1,  1, -1, -1,\n",
              "         -1, -1, -1,  1],\n",
              "        [ 1, -1,  1, -1,  1, -1,  1, -1, -1,  1,  1,  1, -1, -1, -1, -1,\n",
              "          1, -1,  1,  1],\n",
              "        [-1, -1, -1, -1,  1,  1,  1, -1, -1, -1, -1,  1, -1,  1,  1,  1,\n",
              "         -1, -1,  1, -1],\n",
              "        [-1,  1, -1,  1,  1,  1,  1, -1,  1, -1,  1, -1, -1, -1, -1, -1,\n",
              "         -1,  1,  1,  1],\n",
              "        [ 1, -1,  1, -1, -1, -1,  1,  1,  1,  1, -1,  1,  1, -1,  1,  1,\n",
              "         -1,  1,  1, -1],\n",
              "        [ 1, -1,  1, -1, -1, -1,  1,  1, -1, -1,  1, -1, -1,  1,  1,  1,\n",
              "         -1, -1, -1, -1],\n",
              "        [-1,  1,  1,  1, -1,  1, -1,  1,  1,  1,  1,  1, -1,  1, -1, -1,\n",
              "         -1,  1, -1, -1],\n",
              "        [-1,  1,  1, -1, -1, -1, -1,  1,  1, -1, -1,  1, -1, -1,  1,  1,\n",
              "         -1,  1,  1, -1],\n",
              "        [-1, -1, -1, -1, -1,  1, -1,  1, -1,  1,  1,  1, -1,  1, -1, -1,\n",
              "          1, -1, -1, -1],\n",
              "        [-1,  1, -1,  1,  1, -1, -1, -1,  1, -1,  1,  1,  1,  1,  1,  1,\n",
              "          1, -1,  1, -1],\n",
              "        [-1, -1,  1,  1, -1,  1, -1, -1,  1,  1, -1, -1,  1, -1, -1, -1,\n",
              "         -1, -1,  1, -1],\n",
              "        [ 1,  1,  1,  1,  1,  1,  1, -1, -1,  1,  1, -1, -1, -1,  1, -1,\n",
              "          1,  1,  1, -1],\n",
              "        [-1,  1, -1,  1,  1,  1, -1, -1,  1, -1, -1, -1, -1,  1, -1,  1,\n",
              "          1,  1, -1, -1],\n",
              "        [-1,  1,  1,  1,  1,  1, -1, -1, -1,  1,  1, -1,  1,  1, -1,  1,\n",
              "         -1, -1,  1, -1],\n",
              "        [-1,  1, -1, -1, -1, -1,  1, -1,  1, -1, -1, -1, -1, -1,  1,  1,\n",
              "          1, -1, -1,  1],\n",
              "        [ 1,  1, -1,  1,  1, -1, -1, -1, -1, -1,  1, -1, -1,  1,  1,  1,\n",
              "         -1, -1,  1,  1],\n",
              "        [-1,  1, -1, -1,  1,  1,  1,  1, -1,  1, -1,  1,  1, -1, -1, -1,\n",
              "         -1, -1,  1,  1],\n",
              "        [-1, -1, -1, -1, -1, -1,  1,  1,  1, -1,  1,  1, -1, -1,  1,  1,\n",
              "          1, -1, -1,  1],\n",
              "        [ 1, -1,  1,  1, -1, -1,  1,  1,  1,  1,  1, -1,  1, -1, -1, -1,\n",
              "          1, -1,  1,  1]]),\n",
              " 'seed_ising': 1706080448,\n",
              " 'temperature': np.float64(0.01),\n",
              " 'grid_size': 20,\n",
              " 'n_steps': 200,\n",
              " 'simulation_id': '00.01',\n",
              " 'final_state': array([[-1, -1, -1, -1, -1, -1, -1, -1, -1, -1, -1, -1, -1, -1, -1, -1,\n",
              "         -1, -1, -1, -1],\n",
              "        [-1, -1, -1, -1, -1, -1, -1, -1, -1, -1, -1, -1, -1, -1, -1, -1,\n",
              "         -1, -1, -1, -1],\n",
              "        [-1, -1, -1, -1, -1, -1, -1, -1, -1, -1, -1, -1, -1, -1, -1, -1,\n",
              "         -1, -1, -1, -1],\n",
              "        [-1, -1, -1, -1, -1, -1, -1, -1, -1, -1, -1, -1, -1, -1, -1, -1,\n",
              "         -1, -1, -1, -1],\n",
              "        [-1, -1, -1, -1, -1, -1, -1, -1, -1, -1, -1, -1, -1, -1, -1, -1,\n",
              "         -1, -1, -1, -1],\n",
              "        [-1, -1, -1, -1, -1, -1, -1, -1, -1, -1, -1, -1, -1, -1, -1, -1,\n",
              "         -1, -1, -1, -1],\n",
              "        [-1, -1, -1, -1, -1, -1, -1, -1, -1, -1, -1, -1, -1, -1, -1, -1,\n",
              "         -1, -1, -1, -1],\n",
              "        [-1, -1, -1, -1, -1, -1, -1, -1, -1, -1, -1, -1, -1, -1, -1, -1,\n",
              "         -1, -1, -1, -1],\n",
              "        [-1, -1, -1, -1, -1, -1, -1, -1, -1, -1, -1, -1, -1, -1, -1, -1,\n",
              "         -1, -1, -1, -1],\n",
              "        [-1, -1, -1, -1, -1, -1, -1, -1, -1, -1, -1, -1, -1, -1, -1, -1,\n",
              "         -1, -1, -1, -1],\n",
              "        [-1, -1, -1, -1, -1, -1, -1, -1, -1, -1, -1, -1, -1, -1, -1, -1,\n",
              "         -1, -1, -1, -1],\n",
              "        [-1, -1, -1, -1, -1, -1, -1, -1, -1, -1, -1, -1, -1, -1, -1, -1,\n",
              "         -1, -1, -1, -1],\n",
              "        [-1, -1, -1, -1, -1, -1, -1, -1, -1, -1, -1, -1, -1, -1, -1, -1,\n",
              "         -1, -1, -1, -1],\n",
              "        [-1, -1, -1, -1, -1, -1, -1, -1, -1, -1, -1, -1, -1, -1, -1, -1,\n",
              "         -1, -1, -1, -1],\n",
              "        [-1, -1, -1, -1, -1, -1, -1, -1, -1, -1, -1, -1, -1, -1, -1, -1,\n",
              "         -1, -1, -1, -1],\n",
              "        [-1, -1, -1, -1, -1, -1, -1, -1, -1, -1, -1, -1, -1, -1, -1, -1,\n",
              "         -1, -1, -1, -1],\n",
              "        [-1, -1, -1, -1, -1, -1, -1, -1, -1, -1, -1, -1, -1, -1, -1, -1,\n",
              "         -1, -1, -1, -1],\n",
              "        [-1, -1, -1, -1, -1, -1, -1, -1, -1, -1, -1, -1, -1, -1, -1, -1,\n",
              "         -1, -1, -1, -1],\n",
              "        [-1, -1, -1, -1, -1, -1, -1, -1, -1, -1, -1, -1, -1, -1, -1, -1,\n",
              "         -1, -1, -1, -1],\n",
              "        [-1, -1, -1, -1, -1, -1, -1, -1, -1, -1, -1, -1, -1, -1, -1, -1,\n",
              "         -1, -1, -1, -1]]),\n",
              " 'magnetization': array([-0.085, -0.165, -0.14 , -0.09 , -0.125, -0.135, -0.135, -0.125,\n",
              "        -0.15 , -0.12 , -0.105, -0.065, -0.105, -0.11 , -0.12 , -0.145,\n",
              "        -0.17 , -0.22 , -0.285, -0.305, -0.32 , -0.37 , -0.4  , -0.39 ,\n",
              "        -0.38 , -0.385, -0.365, -0.39 , -0.405, -0.42 , -0.44 , -0.455,\n",
              "        -0.46 , -0.48 , -0.5  , -0.525, -0.56 , -0.62 , -0.67 , -0.67 ,\n",
              "        -0.64 , -0.615, -0.675, -0.675, -0.655, -0.655, -0.675, -0.67 ,\n",
              "        -0.66 , -0.705, -0.725, -0.735, -0.755, -0.775, -0.795, -0.83 ,\n",
              "        -0.825, -0.83 , -0.875, -0.9  , -0.945, -0.95 , -0.96 , -0.98 ,\n",
              "        -0.995, -0.995, -1.   , -1.   , -1.   , -1.   , -1.   , -1.   ,\n",
              "        -1.   , -1.   , -1.   , -1.   , -1.   , -1.   , -1.   , -1.   ,\n",
              "        -1.   , -1.   , -1.   , -1.   , -1.   , -1.   , -1.   , -1.   ,\n",
              "        -1.   , -1.   , -1.   , -1.   , -1.   , -1.   , -1.   , -1.   ,\n",
              "        -1.   , -1.   , -1.   , -1.   , -1.   , -1.   , -1.   , -1.   ,\n",
              "        -1.   , -1.   , -1.   , -1.   , -1.   , -1.   , -1.   , -1.   ,\n",
              "        -1.   , -1.   , -1.   , -1.   , -1.   , -1.   , -1.   , -1.   ,\n",
              "        -1.   , -1.   , -1.   , -1.   , -1.   , -1.   , -1.   , -1.   ,\n",
              "        -1.   , -1.   , -1.   , -1.   , -1.   , -1.   , -1.   , -1.   ,\n",
              "        -1.   , -1.   , -1.   , -1.   , -1.   , -1.   , -1.   , -1.   ,\n",
              "        -1.   , -1.   , -1.   , -1.   , -1.   , -1.   , -1.   , -1.   ,\n",
              "        -1.   , -1.   , -1.   , -1.   , -1.   , -1.   , -1.   , -1.   ,\n",
              "        -1.   , -1.   , -1.   , -1.   , -1.   , -1.   , -1.   , -1.   ,\n",
              "        -1.   , -1.   , -1.   , -1.   , -1.   , -1.   , -1.   , -1.   ,\n",
              "        -1.   , -1.   , -1.   , -1.   , -1.   , -1.   , -1.   , -1.   ,\n",
              "        -1.   , -1.   , -1.   , -1.   , -1.   , -1.   , -1.   , -1.   ,\n",
              "        -1.   , -1.   , -1.   , -1.   , -1.   , -1.   , -1.   , -1.   ]),\n",
              " 'energy': 0.0,\n",
              " 'time': 9.709673643112183}"
            ]
          },
          "metadata": {},
          "execution_count": 5
        }
      ]
    },
    {
      "cell_type": "code",
      "source": [
        "plt.imshow(results[0][\"final_state\"])"
      ],
      "metadata": {
        "colab": {
          "base_uri": "https://localhost:8080/",
          "height": 448
        },
        "id": "uzV6x-3OpV1Q",
        "outputId": "1475cd76-9670-4841-b18e-1640f6151edf"
      },
      "execution_count": null,
      "outputs": [
        {
          "output_type": "execute_result",
          "data": {
            "text/plain": [
              "<matplotlib.image.AxesImage at 0x7e9ec89c7e90>"
            ]
          },
          "metadata": {},
          "execution_count": 6
        },
        {
          "output_type": "display_data",
          "data": {
            "text/plain": [
              "<Figure size 640x480 with 1 Axes>"
            ],
            "image/png": "[encoded data removed]"
          },
          "metadata": {}
        }
      ]
    },
    {
      "cell_type": "code",
      "source": [
        "plt.plot(results[0][\"magnetization\"])"
      ],
      "metadata": {
        "colab": {
          "base_uri": "https://localhost:8080/",
          "height": 448
        },
        "id": "-ts3frI-rBqN",
        "outputId": "b9a45ad2-6dc9-40a2-d7b1-3fa6d6c64440"
      },
      "execution_count": null,
      "outputs": [
        {
          "output_type": "execute_result",
          "data": {
            "text/plain": [
              "[<matplotlib.lines.Line2D at 0x7e9eacfb8810>]"
            ]
          },
          "metadata": {},
          "execution_count": 7
        },
        {
          "output_type": "display_data",
          "data": {
            "text/plain": [
              "<Figure size 640x480 with 1 Axes>"
            ],
            "image/png": "[encoded data removed]"
          },
          "metadata": {}
        }
      ]
    },
    {
      "cell_type": "code",
      "source": [
        "temperature_data = {}# fare medie di esempi alla stessa temperatura\n",
        "time_array=[]#vogliamo fare un istogramma dei tempi di simulazione\n",
        "\n",
        "for entry in results:\n",
        "  temp = float(entry[\"temperature\"])\n",
        "  energy = entry[\"energy\"]\n",
        "  final_mag = entry[\"magnetization\"][-1] # ultimo valore di array con m(t)\n",
        "  t = entry[\"time\"]\n",
        "  time_array.append(t)\n",
        "  state = entry[\"final_state\"]\n",
        "\n",
        "  if temp not in temperature_data:\n",
        "    temperature_data[temp] = {\"energy\": [], \"magnetization\": [], \"absolute_mag\" : [],\"state\":[]}#se la temperatura è nuova allora creo il dizionario\n",
        "\n",
        "  temperature_data[temp][\"energy\"].append(energy)\n",
        "  temperature_data[temp][\"magnetization\"].append(final_mag)\n",
        "  temperature_data[temp][\"absolute_mag\"].append(abs(final_mag))\n",
        "  temperature_data[temp][\"state\"].append(state)\n",
        "\n"
      ],
      "metadata": {
        "id": "z8dx0nwkn-L8"
      },
      "execution_count": null,
      "outputs": []
    },
    {
      "cell_type": "code",
      "source": [
        "np.log(10)"
      ],
      "metadata": {
        "colab": {
          "base_uri": "https://localhost:8080/"
        },
        "id": "xLTVTiNcsQdc",
        "outputId": "bbcb3acf-a6e4-4203-af63-2b6a7e58ac72"
      },
      "execution_count": null,
      "outputs": [
        {
          "output_type": "execute_result",
          "data": {
            "text/plain": [
              "np.float64(2.302585092994046)"
            ]
          },
          "metadata": {},
          "execution_count": 9
        }
      ]
    },
    {
      "cell_type": "code",
      "source": [
        "plt.hist(np.log10(time_array),100,density=True)\n",
        "plt.xlabel(\"log(time)\")\n",
        "plt.ylabel(\"density\")\n",
        "plt.show()"
      ],
      "metadata": {
        "colab": {
          "base_uri": "https://localhost:8080/",
          "height": 454
        },
        "id": "-aIBua04r_F4",
        "outputId": "0dea2c85-fe09-466c-988b-b9861e4ad14d"
      },
      "execution_count": null,
      "outputs": [
        {
          "output_type": "display_data",
          "data": {
            "text/plain": [
              "<Figure size 640x480 with 1 Axes>"
            ],
            "image/png": "[encoded data removed]"
          },
          "metadata": {}
        }
      ]
    },
    {
      "cell_type": "code",
      "source": [
        "#calcolo delle medie su insiemi alla stessa temperatura\n",
        "temps =[]\n",
        "avg_energies = []\n",
        "avg_magnetizations=[]\n",
        "all_energies=[]\n",
        "all_magnetizations=[]\n",
        "avg_abs_magnetizations=[]\n",
        "all_temperature=[]\n",
        "all_states=[]\n",
        "\n",
        "for temp, value in sorted(temperature_data.items()):\n",
        "  temps.append(temp)\n",
        "  avg_energies.append(np.mean(value[\"energy\"]))\n",
        "  avg_magnetizations.append(np.mean(value[\"magnetization\"]))\n",
        "  avg_abs_magnetizations.append(np.mean(value[\"absolute_mag\"]))\n",
        "\n",
        "  all_energies.extend(value[\"energy\"])# fa listone di tutte le liste a tutte le temperature\n",
        "  all_magnetizations.extend(value[\"magnetization\"])\n",
        "  all_temperature.extend([temp]*len(value[\"energy\"]))\n",
        "  all_states.extend(value[\"state\"])\n"
      ],
      "metadata": {
        "id": "NKcdKcnYsLQL"
      },
      "execution_count": null,
      "outputs": []
    },
    {
      "cell_type": "code",
      "source": [
        "# scatter plot: average energy vs temperature\n",
        "plt.scatter(temps, avg_energies)\n",
        "plt.xlabel(\"Temperature\")\n",
        "plt.ylabel(\"Average Energy\")\n",
        "plt.show()"
      ],
      "metadata": {
        "colab": {
          "base_uri": "https://localhost:8080/",
          "height": 449
        },
        "id": "2RjrSxwVsjlf",
        "outputId": "1b256932-9f39-4a3c-ba17-e10afc48a649"
      },
      "execution_count": null,
      "outputs": [
        {
          "output_type": "display_data",
          "data": {
            "text/plain": [
              "<Figure size 640x480 with 1 Axes>"
            ],
            "image/png": "[encoded data removed]"
          },
          "metadata": {}
        }
      ]
    },
    {
      "cell_type": "code",
      "source": [
        "all_states[0]"
      ],
      "metadata": {
        "colab": {
          "base_uri": "https://localhost:8080/"
        },
        "id": "8LRYgcY_uUNH",
        "outputId": "9bb0b9d0-db5d-4fce-e942-bdbff094cd14"
      },
      "execution_count": null,
      "outputs": [
        {
          "output_type": "execute_result",
          "data": {
            "text/plain": [
              "array([[-1, -1, -1, -1, -1, -1, -1, -1, -1, -1, -1, -1, -1, -1, -1, -1,\n",
              "        -1, -1, -1, -1],\n",
              "       [-1, -1, -1, -1, -1, -1, -1, -1, -1, -1, -1, -1, -1, -1, -1, -1,\n",
              "        -1, -1, -1, -1],\n",
              "       [-1, -1, -1, -1, -1, -1, -1, -1, -1, -1, -1, -1, -1, -1, -1, -1,\n",
              "        -1, -1, -1, -1],\n",
              "       [-1, -1, -1, -1, -1, -1, -1, -1, -1, -1, -1, -1, -1, -1, -1, -1,\n",
              "        -1, -1, -1, -1],\n",
              "       [-1, -1, -1, -1, -1, -1, -1, -1, -1, -1, -1, -1, -1, -1, -1, -1,\n",
              "        -1, -1, -1, -1],\n",
              "       [-1, -1, -1, -1, -1, -1, -1, -1, -1, -1, -1, -1, -1, -1, -1, -1,\n",
              "        -1, -1, -1, -1],\n",
              "       [-1, -1, -1, -1, -1, -1, -1, -1, -1, -1, -1, -1, -1, -1, -1, -1,\n",
              "        -1, -1, -1, -1],\n",
              "       [-1, -1, -1, -1, -1, -1, -1, -1, -1, -1, -1, -1, -1, -1, -1, -1,\n",
              "        -1, -1, -1, -1],\n",
              "       [-1, -1, -1, -1, -1, -1, -1, -1, -1, -1, -1, -1, -1, -1, -1, -1,\n",
              "        -1, -1, -1, -1],\n",
              "       [-1, -1, -1, -1, -1, -1, -1, -1, -1, -1, -1, -1, -1, -1, -1, -1,\n",
              "        -1, -1, -1, -1],\n",
              "       [-1, -1, -1, -1, -1, -1, -1, -1, -1, -1, -1, -1, -1, -1, -1, -1,\n",
              "        -1, -1, -1, -1],\n",
              "       [-1, -1, -1, -1, -1, -1, -1, -1, -1, -1, -1, -1, -1, -1, -1, -1,\n",
              "        -1, -1, -1, -1],\n",
              "       [-1, -1, -1, -1, -1, -1, -1, -1, -1, -1, -1, -1, -1, -1, -1, -1,\n",
              "        -1, -1, -1, -1],\n",
              "       [-1, -1, -1, -1, -1, -1, -1, -1, -1, -1, -1, -1, -1, -1, -1, -1,\n",
              "        -1, -1, -1, -1],\n",
              "       [-1, -1, -1, -1, -1, -1, -1, -1, -1, -1, -1, -1, -1, -1, -1, -1,\n",
              "        -1, -1, -1, -1],\n",
              "       [-1, -1, -1, -1, -1, -1, -1, -1, -1, -1, -1, -1, -1, -1, -1, -1,\n",
              "        -1, -1, -1, -1],\n",
              "       [-1, -1, -1, -1, -1, -1, -1, -1, -1, -1, -1, -1, -1, -1, -1, -1,\n",
              "        -1, -1, -1, -1],\n",
              "       [-1, -1, -1, -1, -1, -1, -1, -1, -1, -1, -1, -1, -1, -1, -1, -1,\n",
              "        -1, -1, -1, -1],\n",
              "       [-1, -1, -1, -1, -1, -1, -1, -1, -1, -1, -1, -1, -1, -1, -1, -1,\n",
              "        -1, -1, -1, -1],\n",
              "       [-1, -1, -1, -1, -1, -1, -1, -1, -1, -1, -1, -1, -1, -1, -1, -1,\n",
              "        -1, -1, -1, -1]])"
            ]
          },
          "metadata": {},
          "execution_count": 13
        }
      ]
    },
    {
      "cell_type": "code",
      "source": [
        "#all_states\n",
        "#all_temperature# sono le label - le trasformiamo in itervalli [ordinato] T < 2\n",
        "# 2 <T<2.5 lo chiamiamo critico\n",
        "# T > 2.5 lo chiamo paramagnetico\n",
        "all_temp = np.array(all_temperature)\n",
        "ord_sele = all_temp < 2.0\n",
        "cri_sele = ((all_temp >= 2.0) & (all_temp < 2.5))\n",
        "para_sele = all_temp >= 2.5\n",
        "\n",
        "#abbiamo diviso in classi il nostro dataset, assegnamo una label numerica\n",
        "labels = np.zeros(shape=all_temp.shape)\n",
        "labels[ord_sele] = 0\n",
        "labels[cri_sele] = 1\n",
        "labels[para_sele] = 2\n",
        "\n",
        "print(\"label shape : \",labels.shape)\n",
        "print(\"N ordered : \",labels[ord_sele].shape[0])\n",
        "print(\"N critical : \",np.sum(cri_sele))\n",
        "print(\"N paramagnet : \",np.sum(para_sele))"
      ],
      "metadata": {
        "colab": {
          "base_uri": "https://localhost:8080/"
        },
        "id": "NFwU0urTwGd-",
        "outputId": "bf4bab6d-894e-4b8b-f582-48d4f2df8526"
      },
      "execution_count": null,
      "outputs": [
        {
          "output_type": "stream",
          "name": "stdout",
          "text": [
            "label shape :  (30000,)\n",
            "N ordered :  15000\n",
            "N critical :  3700\n",
            "N paramagnet :  11300\n"
          ]
        }
      ]
    },
    {
      "cell_type": "code",
      "source": [
        "type(all_states)\n",
        "states = np.array(all_states).reshape(-1,20*20)"
      ],
      "metadata": {
        "id": "3a5yxbB22MhV"
      },
      "execution_count": null,
      "outputs": []
    },
    {
      "cell_type": "code",
      "source": [
        "states.shape"
      ],
      "metadata": {
        "colab": {
          "base_uri": "https://localhost:8080/"
        },
        "id": "dPagvVdX2Zh7",
        "outputId": "d751281d-22cf-4055-da4e-d063dd43840d"
      },
      "execution_count": null,
      "outputs": [
        {
          "output_type": "execute_result",
          "data": {
            "text/plain": [
              "(30000, 400)"
            ]
          },
          "metadata": {},
          "execution_count": 16
        }
      ]
    },
    {
      "cell_type": "code",
      "source": [
        "from sklearn.model_selection import train_test_split\n",
        "train_to_rest_ratio= 0.6\n",
        "vali_to_test_ratio = 0.5\n",
        "\n",
        "X_train, X_rest, y_train, y_rest = train_test_split(states, labels, train_size=train_to_rest_ratio, random_state=42)\n",
        "X_val, X_test, y_val, y_test = train_test_split(X_rest, y_rest, train_size=vali_to_test_ratio, random_state=42)"
      ],
      "metadata": {
        "id": "EHME8ULv2chX"
      },
      "execution_count": null,
      "outputs": []
    },
    {
      "cell_type": "code",
      "source": [
        "print(\"X_train shape : \",X_train.shape)\n",
        "print(\"X_val shape : \",X_val.shape)\n",
        "print(\"X_test shape : \",X_test.shape)\n",
        "#"
      ],
      "metadata": {
        "colab": {
          "base_uri": "https://localhost:8080/"
        },
        "id": "NCYARqYp3A50",
        "outputId": "bd2ee27c-6b24-451d-92cd-3255a7f2d3bf"
      },
      "execution_count": null,
      "outputs": [
        {
          "output_type": "stream",
          "name": "stdout",
          "text": [
            "X_train shape :  (18000, 400)\n",
            "X_val shape :  (6000, 400)\n",
            "X_test shape :  (6000, 400)\n"
          ]
        }
      ]
    },
    {
      "cell_type": "code",
      "source": [
        "from sklearn.tree import DecisionTreeClassifier\n",
        "from sklearn.metrics import accuracy_score\n",
        "import time\n",
        "import math\n",
        "\n",
        "val_accuracy_dic={}\n",
        "train_accuracy_dic={}\n",
        "depth_array=[]\n",
        "for crit in [\"gini\", \"entropy\", \"log_loss\"]:\n",
        "  val_accuracy_dic[crit]=[]\n",
        "  train_accuracy_dic[crit]=[]\n",
        "  for d in range(2,15,1):\n",
        "    DT_clf = DecisionTreeClassifier(max_depth=d,criterion=crit)\n",
        "    DT_clf.fit(X_train,y_train)\n",
        "\n",
        "    val_acc = DT_clf.score(X_val,y_val)\n",
        "    train_acc = DT_clf.score(X_train,y_train)\n",
        "    print(\"Training accuracy : \",train_acc)\n",
        "    print(\"Validation accuracy : \",val_acc)\n",
        "    val_accuracy_dic[crit].append(val_acc)\n",
        "    train_accuracy_dic[crit].append(train_acc)\n",
        "\n",
        "\n"
      ],
      "metadata": {
        "colab": {
          "base_uri": "https://localhost:8080/"
        },
        "id": "pDWf3VJl3Dzy",
        "outputId": "5aa9938b-8216-4afa-cda4-7f53aadfa5a2"
      },
      "execution_count": null,
      "outputs": [
        {
          "output_type": "stream",
          "name": "stdout",
          "text": [
            "Training accuracy :  0.6483333333333333\n",
            "Validation accuracy :  0.6463333333333333\n",
            "Training accuracy :  0.7180555555555556\n",
            "Validation accuracy :  0.7198333333333333\n",
            "Training accuracy :  0.7529444444444444\n",
            "Validation accuracy :  0.7521666666666667\n",
            "Training accuracy :  0.7701666666666667\n",
            "Validation accuracy :  0.7688333333333334\n",
            "Training accuracy :  0.7962777777777778\n",
            "Validation accuracy :  0.7861666666666667\n",
            "Training accuracy :  0.8178888888888889\n",
            "Validation accuracy :  0.7988333333333333\n",
            "Training accuracy :  0.8415\n",
            "Validation accuracy :  0.8113333333333334\n",
            "Training accuracy :  0.8652222222222222\n",
            "Validation accuracy :  0.8055\n",
            "Training accuracy :  0.8922777777777777\n",
            "Validation accuracy :  0.8011666666666667\n",
            "Training accuracy :  0.9115555555555556\n",
            "Validation accuracy :  0.8013333333333333\n",
            "Training accuracy :  0.9280555555555555\n",
            "Validation accuracy :  0.803\n",
            "Training accuracy :  0.9396111111111111\n",
            "Validation accuracy :  0.8018333333333333\n",
            "Training accuracy :  0.9463888888888888\n",
            "Validation accuracy :  0.8045\n",
            "Training accuracy :  0.6483333333333333\n",
            "Validation accuracy :  0.6463333333333333\n",
            "Training accuracy :  0.7180555555555556\n",
            "Validation accuracy :  0.7198333333333333\n",
            "Training accuracy :  0.7527777777777778\n",
            "Validation accuracy :  0.7508333333333334\n",
            "Training accuracy :  0.7701666666666667\n",
            "Validation accuracy :  0.7688333333333334\n",
            "Training accuracy :  0.7925555555555556\n",
            "Validation accuracy :  0.7855\n",
            "Training accuracy :  0.8177777777777778\n",
            "Validation accuracy :  0.7966666666666666\n",
            "Training accuracy :  0.8407222222222223\n",
            "Validation accuracy :  0.8143333333333334\n",
            "Training accuracy :  0.8651111111111112\n",
            "Validation accuracy :  0.8118333333333333\n",
            "Training accuracy :  0.8915555555555555\n",
            "Validation accuracy :  0.8031666666666667\n",
            "Training accuracy :  0.9173333333333333\n",
            "Validation accuracy :  0.8088333333333333\n",
            "Training accuracy :  0.9352777777777778\n",
            "Validation accuracy :  0.8063333333333333\n",
            "Training accuracy :  0.9455555555555556\n",
            "Validation accuracy :  0.8033333333333333\n",
            "Training accuracy :  0.9509444444444445\n",
            "Validation accuracy :  0.8085\n",
            "Training accuracy :  0.6483333333333333\n",
            "Validation accuracy :  0.6463333333333333\n",
            "Training accuracy :  0.7180555555555556\n",
            "Validation accuracy :  0.7198333333333333\n",
            "Training accuracy :  0.7527777777777778\n",
            "Validation accuracy :  0.7508333333333334\n",
            "Training accuracy :  0.7701666666666667\n",
            "Validation accuracy :  0.7688333333333334\n",
            "Training accuracy :  0.7925555555555556\n",
            "Validation accuracy :  0.7855\n",
            "Training accuracy :  0.8177777777777778\n",
            "Validation accuracy :  0.7966666666666666\n",
            "Training accuracy :  0.8407222222222223\n",
            "Validation accuracy :  0.8143333333333334\n",
            "Training accuracy :  0.8651111111111112\n",
            "Validation accuracy :  0.8111666666666667\n",
            "Training accuracy :  0.8918333333333334\n",
            "Validation accuracy :  0.802\n",
            "Training accuracy :  0.9175\n",
            "Validation accuracy :  0.8048333333333333\n",
            "Training accuracy :  0.9350555555555555\n",
            "Validation accuracy :  0.8065\n",
            "Training accuracy :  0.9453333333333334\n",
            "Validation accuracy :  0.807\n",
            "Training accuracy :  0.9506666666666667\n",
            "Validation accuracy :  0.8103333333333333\n"
          ]
        }
      ]
    },
    {
      "cell_type": "code",
      "source": [
        "# plt acc vs depth\n",
        "for crit in [\"gini\", \"entropy\", \"log_loss\"]:\n",
        "  plt.plot(np.arange(2,15,1),val_accuracy_dic[crit],label=f\"validation {crit}\")\n",
        "  plt.plot(np.arange(2,15,1),train_accuracy_dic[crit],label=f\"training {crit}\")\n",
        "plt.xlabel(\"msl\")\n",
        "plt.ylabel(\"accuracy\")\n",
        "plt.legend()\n",
        "plt.show()"
      ],
      "metadata": {
        "colab": {
          "base_uri": "https://localhost:8080/",
          "height": 449
        },
        "id": "Q_skrcw64lLZ",
        "outputId": "d006f101-4197-4212-c296-0cd193bb6a37"
      },
      "execution_count": null,
      "outputs": [
        {
          "output_type": "display_data",
          "data": {
            "text/plain": [
              "<Figure size 640x480 with 1 Axes>"
            ],
            "image/png": "[encoded data removed]"
          },
          "metadata": {}
        }
      ]
    },
    {
      "cell_type": "code",
      "source": [
        "2**20"
      ],
      "metadata": {
        "id": "BmOaEoFF5W_M"
      },
      "execution_count": null,
      "outputs": []
    },
    {
      "cell_type": "code",
      "source": [],
      "metadata": {
        "id": "i3yqC9gn59Ua"
      },
      "execution_count": null,
      "outputs": []
    }
  ]
}