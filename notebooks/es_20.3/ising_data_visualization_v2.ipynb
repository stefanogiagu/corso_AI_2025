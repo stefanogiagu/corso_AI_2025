{
  "nbformat": 4,
  "nbformat_minor": 0,
  "metadata": {
    "colab": {
      "provenance": [],
      "authorship_tag": "ABX9TyMLY4OC0m0gg4DyJ5kGxy1b",
      "include_colab_link": true
    },
    "kernelspec": {
      "name": "python3",
      "display_name": "Python 3"
    },
    "language_info": {
      "name": "python"
    }
  },
  "cells": [
    {
      "cell_type": "markdown",
      "metadata": {
        "id": "view-in-github",
        "colab_type": "text"
      },
      "source": [
        "<a href=\"https://colab.research.google.com/github/stefanogiagu/corso_AI_2025/blob/main/ising_data_visualization_v2.ipynb\" target=\"_parent\"><img src=\"https://colab.research.google.com/assets/colab-badge.svg\" alt=\"Open In Colab\"/></a>"
      ]
    },
    {
      "cell_type": "code",
      "execution_count": 1,
      "metadata": {
        "colab": {
          "base_uri": "https://localhost:8080/"
        },
        "id": "NI9RccNZmpyt",
        "outputId": "adb8ef68-77fb-4711-b500-54d2ba849395"
      },
      "outputs": [
        {
          "output_type": "stream",
          "name": "stdout",
          "text": [
            "Mounted at /content/drive\n"
          ]
        }
      ],
      "source": [
        "import pickle\n",
        "import numpy as np\n",
        "import matplotlib.pyplot as plt\n",
        "from google.colab import drive\n",
        "drive.mount('/content/drive')\n",
        "#create ising folder"
      ]
    },
    {
      "cell_type": "code",
      "source": [
        "import os\n",
        "ising_folder = '/content/drive/MyDrive/ising_data'"
      ],
      "metadata": {
        "id": "1GA2IgexnNxM"
      },
      "execution_count": 2,
      "outputs": []
    },
    {
      "cell_type": "code",
      "source": [
        "os.chdir(ising_folder)\n",
        "!pwd"
      ],
      "metadata": {
        "colab": {
          "base_uri": "https://localhost:8080/"
        },
        "id": "K6It4zXHvB0L",
        "outputId": "673a33cb-92a8-4c87-e6eb-b6616d90d70e"
      },
      "execution_count": 28,
      "outputs": [
        {
          "output_type": "stream",
          "name": "stdout",
          "text": [
            "/content/drive/MyDrive/ising_data\n"
          ]
        }
      ]
    },
    {
      "cell_type": "code",
      "source": [
        "#caricare i file pickle\n",
        "os.chdir(ising_folder)\n",
        "with open(\"ising_results_20x20.pkl\", \"rb\") as f:\n",
        "    data  = pickle.load(f)\n",
        "    results = data[\"results\"]"
      ],
      "metadata": {
        "id": "XM-wc_JZnXVp"
      },
      "execution_count": 35,
      "outputs": []
    },
    {
      "cell_type": "code",
      "source": [
        "results[0]"
      ],
      "metadata": {
        "colab": {
          "base_uri": "https://localhost:8080/"
        },
        "id": "QBBj6_aHnu2J",
        "outputId": "1ed2ed2a-d8b2-48f8-c6f9-fcc81eecd8a1"
      },
      "execution_count": 36,
      "outputs": [
        {
          "output_type": "execute_result",
          "data": {
            "text/plain": [
              "{'initial_state': array([[-1,  1,  1, -1,  1,  1, -1,  1,  1,  1, -1,  1,  1,  1, -1,  1,\n",
              "          1, -1, -1,  1],\n",
              "        [-1,  1, -1,  1, -1,  1,  1,  1,  1, -1,  1,  1,  1,  1, -1, -1,\n",
              "         -1, -1, -1,  1],\n",
              "        [ 1, -1,  1, -1,  1, -1,  1, -1, -1,  1,  1,  1, -1, -1, -1, -1,\n",
              "          1, -1,  1,  1],\n",
              "        [-1, -1, -1, -1,  1,  1,  1, -1, -1, -1, -1,  1, -1,  1,  1,  1,\n",
              "         -1, -1,  1, -1],\n",
              "        [-1,  1, -1,  1,  1,  1,  1, -1,  1, -1,  1, -1, -1, -1, -1, -1,\n",
              "         -1,  1,  1,  1],\n",
              "        [ 1, -1,  1, -1, -1, -1,  1,  1,  1,  1, -1,  1,  1, -1,  1,  1,\n",
              "         -1,  1,  1, -1],\n",
              "        [ 1, -1,  1, -1, -1, -1,  1,  1, -1, -1,  1, -1, -1,  1,  1,  1,\n",
              "         -1, -1, -1, -1],\n",
              "        [-1,  1,  1,  1, -1,  1, -1,  1,  1,  1,  1,  1, -1,  1, -1, -1,\n",
              "         -1,  1, -1, -1],\n",
              "        [-1,  1,  1, -1, -1, -1, -1,  1,  1, -1, -1,  1, -1, -1,  1,  1,\n",
              "         -1,  1,  1, -1],\n",
              "        [-1, -1, -1, -1, -1,  1, -1,  1, -1,  1,  1,  1, -1,  1, -1, -1,\n",
              "          1, -1, -1, -1],\n",
              "        [-1,  1, -1,  1,  1, -1, -1, -1,  1, -1,  1,  1,  1,  1,  1,  1,\n",
              "          1, -1,  1, -1],\n",
              "        [-1, -1,  1,  1, -1,  1, -1, -1,  1,  1, -1, -1,  1, -1, -1, -1,\n",
              "         -1, -1,  1, -1],\n",
              "        [ 1,  1,  1,  1,  1,  1,  1, -1, -1,  1,  1, -1, -1, -1,  1, -1,\n",
              "          1,  1,  1, -1],\n",
              "        [-1,  1, -1,  1,  1,  1, -1, -1,  1, -1, -1, -1, -1,  1, -1,  1,\n",
              "          1,  1, -1, -1],\n",
              "        [-1,  1,  1,  1,  1,  1, -1, -1, -1,  1,  1, -1,  1,  1, -1,  1,\n",
              "         -1, -1,  1, -1],\n",
              "        [-1,  1, -1, -1, -1, -1,  1, -1,  1, -1, -1, -1, -1, -1,  1,  1,\n",
              "          1, -1, -1,  1],\n",
              "        [ 1,  1, -1,  1,  1, -1, -1, -1, -1, -1,  1, -1, -1,  1,  1,  1,\n",
              "         -1, -1,  1,  1],\n",
              "        [-1,  1, -1, -1,  1,  1,  1,  1, -1,  1, -1,  1,  1, -1, -1, -1,\n",
              "         -1, -1,  1,  1],\n",
              "        [-1, -1, -1, -1, -1, -1,  1,  1,  1, -1,  1,  1, -1, -1,  1,  1,\n",
              "          1, -1, -1,  1],\n",
              "        [ 1, -1,  1,  1, -1, -1,  1,  1,  1,  1,  1, -1,  1, -1, -1, -1,\n",
              "          1, -1,  1,  1]]),\n",
              " 'seed_ising': 1706080448,\n",
              " 'temperature': np.float64(0.01),\n",
              " 'grid_size': 20,\n",
              " 'n_steps': 200,\n",
              " 'simulation_id': '00.01',\n",
              " 'final_state': array([[-1, -1, -1, -1, -1, -1, -1, -1, -1, -1, -1, -1, -1, -1, -1, -1,\n",
              "         -1, -1, -1, -1],\n",
              "        [-1, -1, -1, -1, -1, -1, -1, -1, -1, -1, -1, -1, -1, -1, -1, -1,\n",
              "         -1, -1, -1, -1],\n",
              "        [-1, -1, -1, -1, -1, -1, -1, -1, -1, -1, -1, -1, -1, -1, -1, -1,\n",
              "         -1, -1, -1, -1],\n",
              "        [-1, -1, -1, -1, -1, -1, -1, -1, -1, -1, -1, -1, -1, -1, -1, -1,\n",
              "         -1, -1, -1, -1],\n",
              "        [-1, -1, -1, -1, -1, -1, -1, -1, -1, -1, -1, -1, -1, -1, -1, -1,\n",
              "         -1, -1, -1, -1],\n",
              "        [-1, -1, -1, -1, -1, -1, -1, -1, -1, -1, -1, -1, -1, -1, -1, -1,\n",
              "         -1, -1, -1, -1],\n",
              "        [-1, -1, -1, -1, -1, -1, -1, -1, -1, -1, -1, -1, -1, -1, -1, -1,\n",
              "         -1, -1, -1, -1],\n",
              "        [-1, -1, -1, -1, -1, -1, -1, -1, -1, -1, -1, -1, -1, -1, -1, -1,\n",
              "         -1, -1, -1, -1],\n",
              "        [-1, -1, -1, -1, -1, -1, -1, -1, -1, -1, -1, -1, -1, -1, -1, -1,\n",
              "         -1, -1, -1, -1],\n",
              "        [-1, -1, -1, -1, -1, -1, -1, -1, -1, -1, -1, -1, -1, -1, -1, -1,\n",
              "         -1, -1, -1, -1],\n",
              "        [-1, -1, -1, -1, -1, -1, -1, -1, -1, -1, -1, -1, -1, -1, -1, -1,\n",
              "         -1, -1, -1, -1],\n",
              "        [-1, -1, -1, -1, -1, -1, -1, -1, -1, -1, -1, -1, -1, -1, -1, -1,\n",
              "         -1, -1, -1, -1],\n",
              "        [-1, -1, -1, -1, -1, -1, -1, -1, -1, -1, -1, -1, -1, -1, -1, -1,\n",
              "         -1, -1, -1, -1],\n",
              "        [-1, -1, -1, -1, -1, -1, -1, -1, -1, -1, -1, -1, -1, -1, -1, -1,\n",
              "         -1, -1, -1, -1],\n",
              "        [-1, -1, -1, -1, -1, -1, -1, -1, -1, -1, -1, -1, -1, -1, -1, -1,\n",
              "         -1, -1, -1, -1],\n",
              "        [-1, -1, -1, -1, -1, -1, -1, -1, -1, -1, -1, -1, -1, -1, -1, -1,\n",
              "         -1, -1, -1, -1],\n",
              "        [-1, -1, -1, -1, -1, -1, -1, -1, -1, -1, -1, -1, -1, -1, -1, -1,\n",
              "         -1, -1, -1, -1],\n",
              "        [-1, -1, -1, -1, -1, -1, -1, -1, -1, -1, -1, -1, -1, -1, -1, -1,\n",
              "         -1, -1, -1, -1],\n",
              "        [-1, -1, -1, -1, -1, -1, -1, -1, -1, -1, -1, -1, -1, -1, -1, -1,\n",
              "         -1, -1, -1, -1],\n",
              "        [-1, -1, -1, -1, -1, -1, -1, -1, -1, -1, -1, -1, -1, -1, -1, -1,\n",
              "         -1, -1, -1, -1]]),\n",
              " 'magnetization': array([-0.085, -0.165, -0.14 , -0.09 , -0.125, -0.135, -0.135, -0.125,\n",
              "        -0.15 , -0.12 , -0.105, -0.065, -0.105, -0.11 , -0.12 , -0.145,\n",
              "        -0.17 , -0.22 , -0.285, -0.305, -0.32 , -0.37 , -0.4  , -0.39 ,\n",
              "        -0.38 , -0.385, -0.365, -0.39 , -0.405, -0.42 , -0.44 , -0.455,\n",
              "        -0.46 , -0.48 , -0.5  , -0.525, -0.56 , -0.62 , -0.67 , -0.67 ,\n",
              "        -0.64 , -0.615, -0.675, -0.675, -0.655, -0.655, -0.675, -0.67 ,\n",
              "        -0.66 , -0.705, -0.725, -0.735, -0.755, -0.775, -0.795, -0.83 ,\n",
              "        -0.825, -0.83 , -0.875, -0.9  , -0.945, -0.95 , -0.96 , -0.98 ,\n",
              "        -0.995, -0.995, -1.   , -1.   , -1.   , -1.   , -1.   , -1.   ,\n",
              "        -1.   , -1.   , -1.   , -1.   , -1.   , -1.   , -1.   , -1.   ,\n",
              "        -1.   , -1.   , -1.   , -1.   , -1.   , -1.   , -1.   , -1.   ,\n",
              "        -1.   , -1.   , -1.   , -1.   , -1.   , -1.   , -1.   , -1.   ,\n",
              "        -1.   , -1.   , -1.   , -1.   , -1.   , -1.   , -1.   , -1.   ,\n",
              "        -1.   , -1.   , -1.   , -1.   , -1.   , -1.   , -1.   , -1.   ,\n",
              "        -1.   , -1.   , -1.   , -1.   , -1.   , -1.   , -1.   , -1.   ,\n",
              "        -1.   , -1.   , -1.   , -1.   , -1.   , -1.   , -1.   , -1.   ,\n",
              "        -1.   , -1.   , -1.   , -1.   , -1.   , -1.   , -1.   , -1.   ,\n",
              "        -1.   , -1.   , -1.   , -1.   , -1.   , -1.   , -1.   , -1.   ,\n",
              "        -1.   , -1.   , -1.   , -1.   , -1.   , -1.   , -1.   , -1.   ,\n",
              "        -1.   , -1.   , -1.   , -1.   , -1.   , -1.   , -1.   , -1.   ,\n",
              "        -1.   , -1.   , -1.   , -1.   , -1.   , -1.   , -1.   , -1.   ,\n",
              "        -1.   , -1.   , -1.   , -1.   , -1.   , -1.   , -1.   , -1.   ,\n",
              "        -1.   , -1.   , -1.   , -1.   , -1.   , -1.   , -1.   , -1.   ,\n",
              "        -1.   , -1.   , -1.   , -1.   , -1.   , -1.   , -1.   , -1.   ,\n",
              "        -1.   , -1.   , -1.   , -1.   , -1.   , -1.   , -1.   , -1.   ]),\n",
              " 'energy': 0.0,\n",
              " 'time': 9.709673643112183}"
            ]
          },
          "metadata": {},
          "execution_count": 36
        }
      ]
    },
    {
      "cell_type": "code",
      "source": [
        "plt.imshow(results[0][\"final_state\"])"
      ],
      "metadata": {
        "colab": {
          "base_uri": "https://localhost:8080/",
          "height": 448
        },
        "id": "uzV6x-3OpV1Q",
        "outputId": "3da6fc33-1f21-4b67-9948-09dd136c5948"
      },
      "execution_count": 37,
      "outputs": [
        {
          "output_type": "execute_result",
          "data": {
            "text/plain": [
              "<matplotlib.image.AxesImage at 0x7b4b4036f190>"
            ]
          },
          "metadata": {},
          "execution_count": 37
        },
        {
          "output_type": "display_data",
          "data": {
            "text/plain": [
              "<Figure size 640x480 with 1 Axes>"
            ],
            "image/png": "[encoded data removed]"
          },
          "metadata": {}
        }
      ]
    },
    {
      "cell_type": "code",
      "source": [
        "plt.plot(results[0][\"magnetization\"])"
      ],
      "metadata": {
        "colab": {
          "base_uri": "https://localhost:8080/",
          "height": 448
        },
        "id": "-ts3frI-rBqN",
        "outputId": "56f571b3-6497-41c5-98b4-cd4e89aa81dc"
      },
      "execution_count": 38,
      "outputs": [
        {
          "output_type": "execute_result",
          "data": {
            "text/plain": [
              "[<matplotlib.lines.Line2D at 0x7b4b409f4b10>]"
            ]
          },
          "metadata": {},
          "execution_count": 38
        },
        {
          "output_type": "display_data",
          "data": {
            "text/plain": [
              "<Figure size 640x480 with 1 Axes>"
            ],
            "image/png": "[encoded data removed]"
          },
          "metadata": {}
        }
      ]
    },
    {
      "cell_type": "code",
      "source": [
        "temperature_data = {}# fare medie di esempi alla stessa temperatura\n",
        "time_array=[]#vogliamo fare un istogramma dei tempi di simulazione\n",
        "\n",
        "for entry in results:\n",
        "  temp = float(entry[\"temperature\"])\n",
        "  energy = entry[\"energy\"]\n",
        "  final_mag = entry[\"magnetization\"][-1] # ultimo valore di array con m(t)\n",
        "  t = entry[\"time\"]\n",
        "  time_array.append(t)\n",
        "  state = entry[\"final_state\"]\n",
        "\n",
        "  if temp not in temperature_data:\n",
        "    temperature_data[temp] = {\"energy\": [], \"magnetization\": [], \"absolute_mag\" : [],\"state\":[]}#se la temperatura è nuova allora creo il dizionario\n",
        "\n",
        "  temperature_data[temp][\"energy\"].append(energy)\n",
        "  temperature_data[temp][\"magnetization\"].append(final_mag)\n",
        "  temperature_data[temp][\"absolute_mag\"].append(abs(final_mag))\n",
        "  temperature_data[temp][\"state\"].append(state)\n",
        "\n"
      ],
      "metadata": {
        "id": "z8dx0nwkn-L8"
      },
      "execution_count": 39,
      "outputs": []
    },
    {
      "cell_type": "code",
      "source": [
        "np.log(10)"
      ],
      "metadata": {
        "colab": {
          "base_uri": "https://localhost:8080/"
        },
        "id": "xLTVTiNcsQdc",
        "outputId": "ea65b223-86d9-404c-e055-295046f58690"
      },
      "execution_count": 40,
      "outputs": [
        {
          "output_type": "execute_result",
          "data": {
            "text/plain": [
              "np.float64(2.302585092994046)"
            ]
          },
          "metadata": {},
          "execution_count": 40
        }
      ]
    },
    {
      "cell_type": "code",
      "source": [
        "plt.hist(np.log10(time_array),100,density=True)\n",
        "plt.xlabel(\"log(time)\")\n",
        "plt.ylabel(\"density\")\n",
        "plt.show()"
      ],
      "metadata": {
        "colab": {
          "base_uri": "https://localhost:8080/",
          "height": 454
        },
        "id": "-aIBua04r_F4",
        "outputId": "60e663b2-de54-4f56-9493-da62d6498c45"
      },
      "execution_count": 41,
      "outputs": [
        {
          "output_type": "display_data",
          "data": {
            "text/plain": [
              "<Figure size 640x480 with 1 Axes>"
            ],
            "image/png": "[encoded data removed]"
          },
          "metadata": {}
        }
      ]
    },
    {
      "cell_type": "code",
      "source": [
        "#calcolo delle medie su insiemi alla stessa temperatura\n",
        "temps =[]\n",
        "avg_energies = []\n",
        "avg_magnetizations=[]\n",
        "all_energies=[]\n",
        "all_magnetizations=[]\n",
        "avg_abs_magnetizations=[]\n",
        "all_temperature=[]\n",
        "all_states=[]\n",
        "\n",
        "for temp, value in sorted(temperature_data.items()):\n",
        "  temps.append(temp)\n",
        "  avg_energies.append(np.mean(value[\"energy\"]))\n",
        "  avg_magnetizations.append(np.mean(value[\"magnetization\"]))\n",
        "  avg_abs_magnetizations.append(np.mean(value[\"absolute_mag\"]))\n",
        "\n",
        "  all_energies.extend(value[\"energy\"])# fa listone di tutte le liste a tutte le temperature\n",
        "  all_magnetizations.extend(value[\"magnetization\"])\n",
        "  all_temperature.extend([temp]*len(value[\"energy\"]))\n",
        "  all_states.extend(value[\"state\"])\n"
      ],
      "metadata": {
        "id": "NKcdKcnYsLQL"
      },
      "execution_count": 42,
      "outputs": []
    },
    {
      "cell_type": "code",
      "source": [
        "# scatter plot: average energy vs temperature\n",
        "plt.scatter(temps, avg_energies)\n",
        "plt.xlabel(\"Temperature\")\n",
        "plt.ylabel(\"Average Energy\")\n",
        "plt.show()"
      ],
      "metadata": {
        "colab": {
          "base_uri": "https://localhost:8080/",
          "height": 449
        },
        "id": "2RjrSxwVsjlf",
        "outputId": "62b13d68-8b64-44f2-dcb4-0255526bab37"
      },
      "execution_count": 43,
      "outputs": [
        {
          "output_type": "display_data",
          "data": {
            "text/plain": [
              "<Figure size 640x480 with 1 Axes>"
            ],
            "image/png": "[encoded data removed]"
          },
          "metadata": {}
        }
      ]
    },
    {
      "cell_type": "code",
      "source": [
        "all_states[0]"
      ],
      "metadata": {
        "colab": {
          "base_uri": "https://localhost:8080/"
        },
        "id": "8LRYgcY_uUNH",
        "outputId": "a5243339-c25f-4808-d062-73d416e1e6b4"
      },
      "execution_count": 31,
      "outputs": [
        {
          "output_type": "execute_result",
          "data": {
            "text/plain": [
              "array([[ 1, -1, -1, ...,  1,  1,  1],\n",
              "       [ 1, -1, -1, ...,  1,  1,  1],\n",
              "       [ 1, -1, -1, ...,  1,  1,  1],\n",
              "       ...,\n",
              "       [ 1, -1, -1, ...,  1,  1,  1],\n",
              "       [ 1, -1, -1, ...,  1,  1,  1],\n",
              "       [ 1, -1, -1, ...,  1,  1,  1]])"
            ]
          },
          "metadata": {},
          "execution_count": 31
        }
      ]
    },
    {
      "cell_type": "code",
      "source": [
        "#all_temperature# sono le label - le trasformiamo in itervalli [ordinato] T < 2\n",
        "# 2 <T<2.5 lo chiamiamo critico"
      ],
      "metadata": {
        "id": "NFwU0urTwGd-"
      },
      "execution_count": null,
      "outputs": []
    }
  ]
}