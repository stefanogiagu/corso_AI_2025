{
  "nbformat": 4,
  "nbformat_minor": 0,
  "metadata": {
    "colab": {
      "provenance": [],
      "authorship_tag": "ABX9TyNQ4unZ6Sjyc4msQZtJMjIn",
      "include_colab_link": true
    },
    "kernelspec": {
      "name": "python3",
      "display_name": "Python 3"
    },
    "language_info": {
      "name": "python"
    }
  },
  "cells": [
    {
      "cell_type": "markdown",
      "metadata": {
        "id": "view-in-github",
        "colab_type": "text"
      },
      "source": [
        "<a href=\"https://colab.research.google.com/github/stefanogiagu/corso_AI_2025/blob/main/notebooks/es20.3/metropolis_V1_numba.ipynb\" target=\"_parent\"><img src=\"https://colab.research.google.com/assets/colab-badge.svg\" alt=\"Open In Colab\"/></a>"
      ]
    },
    {
      "cell_type": "code",
      "execution_count": 1,
      "metadata": {
        "id": "ZsIXKvrpdXMi"
      },
      "outputs": [],
      "source": [
        "import numpy as np\n",
        "import math\n",
        "import time\n",
        "import matplotlib.pyplot as plt\n",
        "#\n",
        "from numba import njit\n"
      ]
    },
    {
      "cell_type": "code",
      "source": [
        "@njit\n",
        "def metreopolis_step(lattice, beta, L,rands):\n",
        "  #rands sarà un array (n_step,_L*L,3) # (0,1)\n",
        "\n",
        "  for r in range(L*L):\n",
        "    i = int(rands[r,0]*L)\n",
        "    j = int(rands[r,1]*L)\n",
        "\n",
        "    # i valori dei 4 spin vicini #sopra, sotto, destra, sinistra\n",
        "    up = lattice[(i-1)%L,j]\n",
        "    down = lattice[(i+1)%L,j]\n",
        "    right = lattice[i,(j+1)%L]\n",
        "    left = lattice[i,(j-1)%L]\n",
        "\n",
        "    dE = 2*lattice[i,j]*(up+down+right+left)\n",
        "\n",
        "    if beta ==None:\n",
        "       if dE < 0:# step a zero temp\n",
        "        lattice[i,j] = -lattice[i,j]\n",
        "    else:\n",
        "\n",
        "      if dE < 0:\n",
        "        lattice[i,j] = -lattice[i,j]\n",
        "      else:\n",
        "        if rands[r,2] < np.exp(-beta*dE):\n",
        "          lattice[i,j] = -lattice[i,j]\n",
        "\n",
        "  return lattice\n",
        "\n",
        "\n"
      ],
      "metadata": {
        "id": "c7mOSB64gkYm"
      },
      "execution_count": 2,
      "outputs": []
    },
    {
      "cell_type": "code",
      "source": [
        "@njit\n",
        "def compute_magnetization(lattice):\n",
        "  return np.sum(lattice)/lattice.size"
      ],
      "metadata": {
        "id": "gg0dH4aOj48t"
      },
      "execution_count": 3,
      "outputs": []
    },
    {
      "cell_type": "code",
      "source": [
        "# simulation loop, ripeti metropoli step per N step, definito da utente\n",
        "@njit\n",
        "def simulation_loop(lattice,n_steps,temperature,L):\n",
        "  magnetizations = np.empty(n_steps)# salviamo la magnetizzazione a ogni tempo\n",
        "\n",
        "  if temperature > 0:\n",
        "    beta = 1/temperature\n",
        "  else:\n",
        "    beta = None\n",
        "  rands = np.random.rand(n_steps,L*L,3)\n",
        "  for i in range(n_steps):\n",
        "    lattice = metreopolis_step(lattice, beta, L,rands[i])\n",
        "    magnetizations[i] = compute_magnetization(lattice)\n",
        "\n",
        "  return lattice, magnetizations"
      ],
      "metadata": {
        "id": "ogpf0M2UkZct"
      },
      "execution_count": 4,
      "outputs": []
    },
    {
      "cell_type": "code",
      "source": [
        "\n",
        "def ising_simulation(grid_size,temperature, n_steps, initial_state=None):\n",
        "  if initial_state is None:\n",
        "    lattice = np.random.choice([-1,1], size=(grid_size,grid_size))\n",
        "  else:\n",
        "    lattice = initial_state\n",
        "\n",
        "  start_simulation = time.time()# prende il tempo di inizio\n",
        "\n",
        "  lattice,magnetizations = simulation_loop(lattice,n_steps,temperature,grid_size)\n",
        "\n",
        "  total_time = time.time() - start_simulation# misuro intervallo di tempo\n",
        "\n",
        "  return lattice, magnetizations, total_time"
      ],
      "metadata": {
        "id": "9z2AxO9SmLCd"
      },
      "execution_count": 5,
      "outputs": []
    },
    {
      "cell_type": "code",
      "source": [
        "ts = []\n",
        "for i in range(100):\n",
        "\n",
        "  _,_,t=ising_simulation(100,0.1, 200)\n",
        "  ts.append(t)\n",
        "  print(\"simulation time : \",t)"
      ],
      "metadata": {
        "colab": {
          "base_uri": "https://localhost:8080/"
        },
        "id": "mY4PNBo-nQ_i",
        "outputId": "d8af6c57-3436-4aec-ae06-5e5b6e827bad"
      },
      "execution_count": 6,
      "outputs": [
        {
          "output_type": "stream",
          "name": "stdout",
          "text": [
            "simulation time :  4.280218839645386\n",
            "simulation time :  0.2921714782714844\n",
            "simulation time :  0.22213315963745117\n",
            "simulation time :  0.2984962463378906\n",
            "simulation time :  0.29448652267456055\n",
            "simulation time :  0.2942545413970947\n",
            "simulation time :  0.32549095153808594\n",
            "simulation time :  0.35312747955322266\n",
            "simulation time :  0.2641904354095459\n",
            "simulation time :  0.3042943477630615\n",
            "simulation time :  0.30385351181030273\n",
            "simulation time :  0.38614559173583984\n",
            "simulation time :  0.47739195823669434\n",
            "simulation time :  0.32741880416870117\n",
            "simulation time :  0.46646976470947266\n",
            "simulation time :  0.1827535629272461\n",
            "simulation time :  0.23517274856567383\n",
            "simulation time :  0.25071263313293457\n",
            "simulation time :  0.2264413833618164\n",
            "simulation time :  0.2320563793182373\n",
            "simulation time :  0.23099803924560547\n",
            "simulation time :  0.2273240089416504\n",
            "simulation time :  0.2576475143432617\n",
            "simulation time :  0.23728489875793457\n",
            "simulation time :  0.22954273223876953\n",
            "simulation time :  0.23056626319885254\n",
            "simulation time :  0.23251843452453613\n",
            "simulation time :  0.16000056266784668\n",
            "simulation time :  0.15332365036010742\n",
            "simulation time :  0.15002202987670898\n",
            "simulation time :  0.14993810653686523\n",
            "simulation time :  0.1509692668914795\n",
            "simulation time :  0.1505718231201172\n",
            "simulation time :  0.1597461700439453\n",
            "simulation time :  0.14795541763305664\n",
            "simulation time :  0.14964604377746582\n",
            "simulation time :  0.15536022186279297\n",
            "simulation time :  0.14651083946228027\n",
            "simulation time :  0.1501758098602295\n",
            "simulation time :  0.1520085334777832\n",
            "simulation time :  0.16642522811889648\n",
            "simulation time :  0.15856480598449707\n",
            "simulation time :  0.15379047393798828\n",
            "simulation time :  0.15175509452819824\n",
            "simulation time :  0.15404081344604492\n",
            "simulation time :  0.15099382400512695\n",
            "simulation time :  0.1575608253479004\n",
            "simulation time :  0.14761137962341309\n",
            "simulation time :  0.15006589889526367\n",
            "simulation time :  0.14740276336669922\n",
            "simulation time :  0.14718389511108398\n",
            "simulation time :  0.152418851852417\n",
            "simulation time :  0.14892292022705078\n",
            "simulation time :  0.16320323944091797\n",
            "simulation time :  0.15076160430908203\n",
            "simulation time :  0.1522996425628662\n",
            "simulation time :  0.15245962142944336\n",
            "simulation time :  0.15473413467407227\n",
            "simulation time :  0.1551976203918457\n",
            "simulation time :  0.1516399383544922\n",
            "simulation time :  0.16307330131530762\n",
            "simulation time :  0.1532726287841797\n",
            "simulation time :  0.15736126899719238\n",
            "simulation time :  0.15735411643981934\n",
            "simulation time :  0.15330004692077637\n",
            "simulation time :  0.15239238739013672\n",
            "simulation time :  0.17026853561401367\n",
            "simulation time :  0.14743924140930176\n",
            "simulation time :  0.15400314331054688\n",
            "simulation time :  0.15301132202148438\n",
            "simulation time :  0.15332841873168945\n",
            "simulation time :  0.15572118759155273\n",
            "simulation time :  0.1512904167175293\n",
            "simulation time :  0.16756105422973633\n",
            "simulation time :  0.15254473686218262\n",
            "simulation time :  0.14683747291564941\n",
            "simulation time :  0.14807724952697754\n",
            "simulation time :  0.1523151397705078\n",
            "simulation time :  0.1499180793762207\n",
            "simulation time :  0.15125203132629395\n",
            "simulation time :  0.16326165199279785\n",
            "simulation time :  0.15217828750610352\n",
            "simulation time :  0.15348124504089355\n",
            "simulation time :  0.15627050399780273\n",
            "simulation time :  0.16084504127502441\n",
            "simulation time :  0.15131855010986328\n",
            "simulation time :  0.15998220443725586\n",
            "simulation time :  0.15450716018676758\n",
            "simulation time :  0.14873981475830078\n",
            "simulation time :  0.1504809856414795\n",
            "simulation time :  0.15056157112121582\n",
            "simulation time :  0.153428316116333\n",
            "simulation time :  0.2369523048400879\n",
            "simulation time :  0.24567890167236328\n",
            "simulation time :  0.22814679145812988\n",
            "simulation time :  0.23109698295593262\n",
            "simulation time :  0.2362198829650879\n",
            "simulation time :  0.24381494522094727\n",
            "simulation time :  0.2288217544555664\n",
            "simulation time :  0.23908638954162598\n"
          ]
        }
      ]
    },
    {
      "cell_type": "code",
      "source": [
        "plt.hist(ts)\n",
        "plt.xlabel(\"simulation time\")\n",
        "plt.ylabel(\"number of simulations\")\n",
        "plt.show()"
      ],
      "metadata": {
        "colab": {
          "base_uri": "https://localhost:8080/",
          "height": 449
        },
        "id": "0sjqZUA5nXNw",
        "outputId": "801cfa59-7ac6-4d35-82cf-595646918aa8"
      },
      "execution_count": 7,
      "outputs": [
        {
          "output_type": "display_data",
          "data": {
            "text/plain": [
              "<Figure size 640x480 with 1 Axes>"
            ],
            "image/png": "[encoded data removed]"
          },
          "metadata": {}
        }
      ]
    },
    {
      "cell_type": "code",
      "source": [
        "plt.plot(ms)\n",
        "plt.xlabel(\"step\")\n",
        "plt.ylabel(\"magnetization\")\n",
        "plt.show()"
      ],
      "metadata": {
        "colab": {
          "base_uri": "https://localhost:8080/",
          "height": 196
        },
        "id": "nuTiQyLjnjS5",
        "outputId": "a56d56e1-5774-4b80-f2ba-4d6f0e5e333d"
      },
      "execution_count": 8,
      "outputs": [
        {
          "output_type": "error",
          "ename": "NameError",
          "evalue": "name 'ms' is not defined",
          "traceback": [
            "\u001b[0;31m---------------------------------------------------------------------------\u001b[0m",
            "\u001b[0;31mNameError\u001b[0m                                 Traceback (most recent call last)",
            "\u001b[0;32m<ipython-input-8-7a902be8426f>\u001b[0m in \u001b[0;36m<cell line: 0>\u001b[0;34m()\u001b[0m\n\u001b[0;32m----> 1\u001b[0;31m \u001b[0mplt\u001b[0m\u001b[0;34m.\u001b[0m\u001b[0mplot\u001b[0m\u001b[0;34m(\u001b[0m\u001b[0mms\u001b[0m\u001b[0;34m)\u001b[0m\u001b[0;34m\u001b[0m\u001b[0;34m\u001b[0m\u001b[0m\n\u001b[0m\u001b[1;32m      2\u001b[0m \u001b[0mplt\u001b[0m\u001b[0;34m.\u001b[0m\u001b[0mxlabel\u001b[0m\u001b[0;34m(\u001b[0m\u001b[0;34m\"step\"\u001b[0m\u001b[0;34m)\u001b[0m\u001b[0;34m\u001b[0m\u001b[0;34m\u001b[0m\u001b[0m\n\u001b[1;32m      3\u001b[0m \u001b[0mplt\u001b[0m\u001b[0;34m.\u001b[0m\u001b[0mylabel\u001b[0m\u001b[0;34m(\u001b[0m\u001b[0;34m\"magnetization\"\u001b[0m\u001b[0;34m)\u001b[0m\u001b[0;34m\u001b[0m\u001b[0;34m\u001b[0m\u001b[0m\n\u001b[1;32m      4\u001b[0m \u001b[0mplt\u001b[0m\u001b[0;34m.\u001b[0m\u001b[0mshow\u001b[0m\u001b[0;34m(\u001b[0m\u001b[0;34m)\u001b[0m\u001b[0;34m\u001b[0m\u001b[0;34m\u001b[0m\u001b[0m\n",
            "\u001b[0;31mNameError\u001b[0m: name 'ms' is not defined"
          ]
        }
      ]
    },
    {
      "cell_type": "code",
      "source": [
        "plt.imshow(lattice)\n",
        "plt.show()"
      ],
      "metadata": {
        "id": "bYVROwYeoZCA"
      },
      "execution_count": null,
      "outputs": []
    },
    {
      "cell_type": "code",
      "source": [],
      "metadata": {
        "id": "7nb7OB4apEOl"
      },
      "execution_count": null,
      "outputs": []
    }
  ]
}