{
  "nbformat": 4,
  "nbformat_minor": 0,
  "metadata": {
    "colab": {
      "provenance": [],
      "gpuType": "T4",
      "include_colab_link": true
    },
    "kernelspec": {
      "name": "python3",
      "display_name": "Python 3"
    },
    "accelerator": "GPU"
  },
  "cells": [
    {
      "cell_type": "markdown",
      "metadata": {
        "id": "view-in-github",
        "colab_type": "text"
      },
      "source": [
        "<a href=\"https://colab.research.google.com/github/stefanogiagu/corso_AI_2025/blob/main/AI_2025_VAE_v2.ipynb\" target=\"_parent\"><img src=\"https://colab.research.google.com/assets/colab-badge.svg\" alt=\"Open In Colab\"/></a>"
      ]
    },
    {
      "cell_type": "markdown",
      "source": [
        "# Modelli generativi basati su VAE\n",
        "\n",
        "scopo: familiarizzare con la progettazione e l'uso di archietture generative basate su VAE\n",
        "DL tool: pytorch\n",
        "\n",
        "### tasks ###\n",
        "\n",
        "1.   implementazione di una beta-VAE (eg una VAE con un iperparametro che controlla il peso relativo del termine di divergenza rispetto al termine di ricostruzione nella loss per la generazione di immagini realistiche\n",
        "\n",
        "\n",
        "Referenze:\n",
        "\n",
        "*   [VAE](https://arxiv.org/abs/1312.6114) e [beta-VAE](https://openreview.net/forum?id=Sy2fzU9gl)\n",
        "\n",
        "\n",
        "\n",
        "**Datasets:**\n",
        "\n",
        "*  [fashion-MNIST](https://pytorch.org/vision/stable/generated/torchvision.datasets.FashionMNIST.html#torchvision.datasets.FashionMNIST)\n",
        "\n"
      ],
      "metadata": {
        "id": "8ix-CMEfVfV2"
      }
    },
    {
      "cell_type": "code",
      "metadata": {
        "id": "fxsEpzXeKlYg",
        "colab": {
          "base_uri": "https://localhost:8080/"
        },
        "outputId": "736ffba5-b9cf-4197-c8d4-95f03deaf818"
      },
      "source": [
        "# import delle librerie\n",
        "import numpy as np\n",
        "import matplotlib.pyplot as plt\n",
        "\n",
        "# pytorch\n",
        "import torch\n",
        "import torchvision\n",
        "\n",
        "print(torch.__version__)\n",
        "print(torchvision.__version__)\n",
        "\n",
        "from torch import nn\n",
        "import torch.nn.functional as F"
      ],
      "execution_count": 1,
      "outputs": [
        {
          "output_type": "stream",
          "name": "stdout",
          "text": [
            "2.6.0+cu124\n",
            "0.21.0+cu124\n"
          ]
        }
      ]
    },
    {
      "cell_type": "markdown",
      "source": [
        "il dataset FashionMNIST è costituito da immagini di icone di oggetti di viestiario corrispondenti a 60k immagini per il training e 10k immagini per il test.\n",
        "\n",
        "Ogni immagine ha dimensione $(28,28)$ pixel, con un canale di intensità (scala di grigi) a 8 bit (valori di intensità di ogni pixel $\\in [0,256]$).\n",
        "\n",
        "È disponibile in varie librerie per il ML (scikit-learn, torch, tensorflow, librerie esterne...). Prendendo il dataset già disponibile in pytorch possiamo sfruttare il vantaggio di di avere conversioni automatiche in tensori torch e normalizzazioni. Leggendo il dataset da un input esterno, come per esempio fatto nell'esercitazione su PCA prendendolo da openm, in formato di ndarray numpy, dovremo convertire noi i vettori in tensori torch e normalizzarli, ma risulterà più chiaro come usare in generale datset esterni. in questo hands-on utilizzeremo questo secondo approccio."
      ],
      "metadata": {
        "id": "EAGMqoujgjzE"
      }
    },
    {
      "cell_type": "code",
      "source": [
        "# lettura del dataset Fashion-MNIST da openml usando la libreria sklearn\n",
        "# label:\n",
        "# 0 T-shirt/top\n",
        "# 1 Trouser\n",
        "# 2 Pullover\n",
        "# 3 Dress\n",
        "# 4 Coat\n",
        "# 5 Sandal\n",
        "# 6 Shirt\n",
        "# 7 Sneaker\n",
        "# 8 Bag\n",
        "# 9 Ankle boot\n",
        "\n",
        "from sklearn.datasets import fetch_openml\n",
        "\n",
        "images, labels = fetch_openml(\"Fashion-MNIST\", version=1, return_X_y=True, as_frame=False, parser=\"pandas\")\n",
        "labels = labels.astype(int) # converte le label in int\n",
        "\n",
        "print(images.shape)\n",
        "print(labels.shape)"
      ],
      "metadata": {
        "colab": {
          "base_uri": "https://localhost:8080/"
        },
        "id": "3uigwnUjOW3i",
        "outputId": "0fef64fb-cb6b-4108-f1c5-45aa0be423ba"
      },
      "execution_count": 2,
      "outputs": [
        {
          "output_type": "stream",
          "name": "stdout",
          "text": [
            "(70000, 784)\n",
            "(70000,)\n"
          ]
        }
      ]
    },
    {
      "cell_type": "code",
      "source": [
        "# grafichiamo 9 immagini random\n",
        "figure = plt.figure(figsize=(5, 4))\n",
        "cols, rows = 3,3\n",
        "for i in range(1, cols * rows + 1):\n",
        "    sample_idx = np.random.randint(len(images))\n",
        "    img, label = images[sample_idx], labels[sample_idx]\n",
        "    figure.add_subplot(rows, cols, i)\n",
        "    plt.title(label)\n",
        "    plt.axis(\"off\")\n",
        "    plt.imshow(img.reshape((28,28)), cmap=\"gray\")\n",
        "plt.show()"
      ],
      "metadata": {
        "colab": {
          "base_uri": "https://localhost:8080/",
          "height": 367
        },
        "id": "PdNlVOCEguAw",
        "outputId": "8293ad7b-8b2e-4746-b7b2-61e70bf96251"
      },
      "execution_count": 3,
      "outputs": [
        {
          "output_type": "display_data",
          "data": {
            "text/plain": [
              "<Figure size 500x400 with 9 Axes>"
            ],
            "image/png": "[encoded data removed]"
          },
          "metadata": {}
        }
      ]
    },
    {
      "cell_type": "code",
      "source": [
        "# splitting del campione in training e test (80:20)\n",
        "\n",
        "from sklearn.model_selection import train_test_split\n",
        "\n",
        "X_train, X_test, Y_train, Y_test = train_test_split(images, labels, test_size=0.2, shuffle=True, random_state=12345)\n",
        "\n",
        "print(X_train.shape)\n",
        "print(Y_train.shape)\n",
        "print(X_test.shape)\n",
        "print(Y_test.shape)"
      ],
      "metadata": {
        "colab": {
          "base_uri": "https://localhost:8080/"
        },
        "id": "LVpGJ3aSgz63",
        "outputId": "463d6119-6479-497b-8bf0-ecce7aabfc18"
      },
      "execution_count": 4,
      "outputs": [
        {
          "output_type": "stream",
          "name": "stdout",
          "text": [
            "(56000, 784)\n",
            "(56000,)\n",
            "(14000, 784)\n",
            "(14000,)\n"
          ]
        }
      ]
    },
    {
      "cell_type": "code",
      "source": [
        "# le immagini Fashion-MNIST sono immagini in scala di grigio a 8 bit, ogni pixel assume valore [0,255], quindi per\n",
        "# normalizzare in [0,1] basta solo divider tutte le immagini per 255\n",
        "\n",
        "X_train_norm = X_train / 255.\n",
        "X_test_norm  = X_test / 255."
      ],
      "metadata": {
        "id": "QSTJCiwrg-bh"
      },
      "execution_count": 5,
      "outputs": []
    },
    {
      "cell_type": "code",
      "source": [
        "# per questa esercitazione è consigliabile usare una GPU\n",
        "# controlliamo se la GPU è disponibile e nel caso quale tipo di GPU\n",
        "if torch.cuda.is_available():\n",
        "  print('Numero di GPU disponibili: ',torch.cuda.device_count())\n",
        "  for i in range(0,torch.cuda.device_count()):\n",
        "    print(torch.cuda.get_device_name(i))\n",
        "\n",
        "# se la GPU è disponibile setto device='cuda', altrimenti 'cpu\n",
        "device = ('cuda' if torch.cuda.is_available() else 'cpu')\n",
        "print(f\"Computation device: {device}\\n\")"
      ],
      "metadata": {
        "id": "JV4zTLvwSEAJ",
        "colab": {
          "base_uri": "https://localhost:8080/"
        },
        "outputId": "7fb8ac31-d0b4-47d0-b9e7-95ea8913c594"
      },
      "execution_count": 6,
      "outputs": [
        {
          "output_type": "stream",
          "name": "stdout",
          "text": [
            "Numero di GPU disponibili:  1\n",
            "Tesla T4\n",
            "Computation device: cuda\n",
            "\n"
          ]
        }
      ]
    },
    {
      "cell_type": "code",
      "source": [
        "# conversione in tensori torch dei vettori numpy\n",
        "\n",
        "X_train_pt = torch.Tensor(X_train_norm).float()\n",
        "Y_train_pt = torch.Tensor(Y_train).int()\n",
        "X_test_pt = torch.Tensor(X_test_norm).float()\n",
        "Y_test_pt = torch.Tensor(Y_test).int()\n",
        "\n",
        "# reshape the tensori da (n,784) a (n,1,28,28) come richiesto da conv layer in pytorch\n",
        "\n",
        "X_train_pt = X_train_pt.view((X_train_pt.shape[0],1,28,28))\n",
        "X_test_pt = X_test_pt.view((X_test_pt.shape[0],1,28,28))\n",
        "\n",
        "print(X_train_pt.shape)\n",
        "print(Y_train_pt.shape)\n",
        "print(X_test_pt.shape)\n",
        "print(Y_test_pt.shape)"
      ],
      "metadata": {
        "colab": {
          "base_uri": "https://localhost:8080/"
        },
        "id": "QdqZJrGwhJrX",
        "outputId": "832929e4-0362-417e-dfca-17c975c90ce1"
      },
      "execution_count": 7,
      "outputs": [
        {
          "output_type": "stream",
          "name": "stdout",
          "text": [
            "torch.Size([56000, 1, 28, 28])\n",
            "torch.Size([56000])\n",
            "torch.Size([14000, 1, 28, 28])\n",
            "torch.Size([14000])\n"
          ]
        }
      ]
    },
    {
      "cell_type": "code",
      "source": [
        "# dataset e dataloaders\n",
        "\n",
        "batch_size = 128\n",
        "\n",
        "from torch.utils.data import TensorDataset, DataLoader\n",
        "\n",
        "dataset_train = TensorDataset(X_train_pt, Y_train_pt)\n",
        "train_dl = DataLoader(dataset_train, batch_size=batch_size, shuffle=True, num_workers=1, drop_last=True)\n",
        "\n",
        "dataset_test = TensorDataset(X_test_pt, Y_test_pt)\n",
        "test_dl = DataLoader(dataset_test, batch_size=1, shuffle=True, num_workers=1, drop_last=True)"
      ],
      "metadata": {
        "id": "f-PryoJkSWZX"
      },
      "execution_count": 8,
      "outputs": []
    },
    {
      "cell_type": "markdown",
      "source": [
        "### Definzione del modello di rete neurale.\n",
        "\n",
        "Architettura: VAE convoluzionale con encoder costituito da 2 layer convoluzionali 2D con kernel_size 4 e stride 2 (per comprimere le rappresentazioni), decoder costituito da ConvTranspose2D. Lo spazio latente z è costituito da un layer denso. Usiamo attivazioni ReLu nella parte convoluzionale e sigmoide nell'output in modo da allenare il modello con BCE come reconstruction loss + KL-divergence come regolarizzatore"
      ],
      "metadata": {
        "id": "3Z42_INRiiMK"
      }
    },
    {
      "cell_type": "code",
      "source": [
        "# Convolutional Encoder Model\n",
        "\n",
        "class Encoder(nn.Module):\n",
        "    def __init__(self, hidden_channels=64, latent_dim=2):\n",
        "        super().__init__()\n",
        "        self.conv1 = nn.Conv2d(in_channels=1,\n",
        "                               out_channels=hidden_channels,\n",
        "                               kernel_size=4,\n",
        "                               stride=2,\n",
        "                               padding=1)\n",
        "        self.conv2 = nn.Conv2d(in_channels=hidden_channels,\n",
        "                               out_channels=hidden_channels*2,\n",
        "                               kernel_size=4,\n",
        "                               stride=2,\n",
        "                               padding=1)\n",
        "        self.fc_mu = nn.Linear(in_features=hidden_channels*2*7*7,\n",
        "                               out_features=latent_dim)\n",
        "\n",
        "        self.fc_logvar = nn.Linear(in_features=hidden_channels*2*7*7,\n",
        "                               out_features=latent_dim)\n",
        "        self.activation = nn.ReLU()\n",
        "       ######\n",
        "\n",
        "    def forward(self, x):\n",
        "\n",
        "        x = self.activation(self.conv1(x))\n",
        "        x = self.activation(self.conv2(x))\n",
        "        x = x.view(x.size(0), -1) # flatten\n",
        "\n",
        "        x_mu = self.fc_mu(x)\n",
        "        x_logvar = self.fc_logvar(x)\n",
        "\n",
        "        return x_mu, x_logvar"
      ],
      "metadata": {
        "id": "7o5rmJCFTD_q"
      },
      "execution_count": 20,
      "outputs": []
    },
    {
      "cell_type": "code",
      "source": [
        "# Convolutional Decoder Model\n",
        "\n",
        "class Decoder(nn.Module):\n",
        "    def __init__(self, hidden_channels=64, latent_dim=2):\n",
        "        super().__init__()\n",
        "        self.hidden_channels = hidden_channels\n",
        "\n",
        "        self.fc = nn.Linear(in_features=latent_dim,\n",
        "                            out_features=hidden_channels*2*7*7)\n",
        "\n",
        "        self.conv2 = nn.ConvTranspose2d(in_channels=hidden_channels*2,\n",
        "                                        out_channels=hidden_channels,\n",
        "                                        kernel_size=4,\n",
        "                                        stride=2,\n",
        "                                        padding=1)\n",
        "        self.conv1 = nn.ConvTranspose2d(in_channels=hidden_channels,\n",
        "                                        out_channels=1,\n",
        "                                        kernel_size=4,\n",
        "                                        stride=2,\n",
        "                                        padding=1)\n",
        "\n",
        "        self.activation = nn.ReLU()\n",
        "\n",
        "\n",
        "    def forward(self, x):\n",
        "        x = self.fc(x)\n",
        "        x = x.view(x.size(0), self.hidden_channels*2, 7, 7)\n",
        "        x = self.activation(self.conv2(x))\n",
        "        out = torch.sigmoid(self.conv1(x)) # final activation sigmoid (works with BCELoss as reconstruction loss)\n",
        "        return out"
      ],
      "metadata": {
        "id": "Ts3oU_JQUpcy"
      },
      "execution_count": 21,
      "outputs": []
    },
    {
      "cell_type": "code",
      "source": [
        "# Full VAE/AE Model\n",
        "\n",
        "class VAE(nn.Module):\n",
        "  def __init__(self, encoder,decoder):\n",
        "    super().__init__()\n",
        "    self.encoder = encoder\n",
        "    self.decoder = decoder\n",
        "\n",
        "  def forward(self, x):\n",
        "    x_mu, x_logvar = self.encoder(x)\n",
        "    z = self.rep_trick(x_mu, x_logvar)\n",
        "    out = self.decoder(z)\n",
        "    return out, x_mu, x_logvar\n",
        "  def rep_trick(self, x_mu, x_logvar):\n",
        "    if self.training:\n",
        "      # da log var passo a sigma\n",
        "      sigma = (0.5*x_logvar ).exp()# così sono sicuro che sia positivo\n",
        "      # campiono z da G(mu,sigma)\n",
        "      z = x_mu + sigma*torch.randn_like(sigma)# numero dist. normale con stesso tipo e device di sigma\n",
        "      #restituisco z\n",
        "      return z\n",
        "    else:\n",
        "      return x_mu\n",
        ""
      ],
      "metadata": {
        "id": "sKqTgznXVKiV"
      },
      "execution_count": 22,
      "outputs": []
    },
    {
      "cell_type": "code",
      "source": [
        "hidden_channels = 64\n",
        "latent_dims = 2 # è facile da plottare, mettete più alto e poi usate t-sne"
      ],
      "metadata": {
        "id": "g-QNn8A06Gha"
      },
      "execution_count": 23,
      "outputs": []
    },
    {
      "cell_type": "code",
      "source": [
        "def vae_loss(recon_x, x,  x_mu, log_var,beta):# output di decoder, GT, media, log  var\n",
        "  recon_loss = F.binary_cross_entropy(recon_x.view(-1,x.size(2)*x.size(3)), x.view(-1,x.size(2)*x.size(3)), reduction='sum')\n",
        "  kl_divergence = -0.5 * torch.sum(1 + log_var - x_mu.pow(2) - log_var.exp())\n",
        "  return recon_loss + beta*kl_divergence, recon_loss, kl_divergence\n",
        ""
      ],
      "metadata": {
        "id": "53-3LAoB61IM"
      },
      "execution_count": 24,
      "outputs": []
    },
    {
      "cell_type": "code",
      "source": [
        "encoder = Encoder(hidden_channels=hidden_channels, latent_dim=latent_dims)\n",
        "decoder = Decoder(hidden_channels=hidden_channels, latent_dim=latent_dims)\n",
        "model_vae = VAE(encoder,decoder)\n",
        "\n"
      ],
      "metadata": {
        "id": "kyqLK7YS6qUN"
      },
      "execution_count": 25,
      "outputs": []
    },
    {
      "cell_type": "code",
      "source": [
        "# test\n",
        "print(encoder(torch.rand(1,1,28,28)))\n",
        "print(decoder(torch.rand(1,latent_dims)).shape)\n",
        "print(model_vae(torch.rand(1,1,28,28))[0].shape)"
      ],
      "metadata": {
        "colab": {
          "base_uri": "https://localhost:8080/"
        },
        "id": "NBykpGjA6y5g",
        "outputId": "5df79127-e636-40aa-8828-002d21662082"
      },
      "execution_count": 33,
      "outputs": [
        {
          "output_type": "stream",
          "name": "stdout",
          "text": [
            "(tensor([[-0.0069,  0.0203]], grad_fn=<AddmmBackward0>), tensor([[0.0060, 0.0799]], grad_fn=<AddmmBackward0>))\n",
            "torch.Size([1, 1, 28, 28])\n",
            "torch.Size([1, 1, 28, 28])\n"
          ]
        }
      ]
    },
    {
      "cell_type": "code",
      "source": [
        "vae_loss(torch.rand(1,1,28,28),torch.rand(1,1,28,28),torch.rand(1,latent_dims),torch.rand(1,latent_dims),1)"
      ],
      "metadata": {
        "colab": {
          "base_uri": "https://localhost:8080/"
        },
        "id": "0IXgcTV38wz8",
        "outputId": "8887c866-de32-458d-fa33-ba9f892ec8de"
      },
      "execution_count": 34,
      "outputs": [
        {
          "output_type": "execute_result",
          "data": {
            "text/plain": [
              "(tensor(809.8184), tensor(809.2694), tensor(0.5490))"
            ]
          },
          "metadata": {},
          "execution_count": 34
        }
      ]
    },
    {
      "cell_type": "code",
      "source": [],
      "metadata": {
        "id": "xq2uavi69iLO"
      },
      "execution_count": null,
      "outputs": []
    }
  ]
}