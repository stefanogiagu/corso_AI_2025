{
  "nbformat": 4,
  "nbformat_minor": 0,
  "metadata": {
    "colab": {
      "provenance": [],
      "include_colab_link": true
    },
    "kernelspec": {
      "name": "python3",
      "display_name": "Python 3"
    },
    "language_info": {
      "name": "python"
    }
  },
  "cells": [
    {
      "cell_type": "markdown",
      "metadata": {
        "id": "view-in-github",
        "colab_type": "text"
      },
      "source": [
        "<a href=\"https://colab.research.google.com/github/stefanogiagu/corso_AI_2025/blob/main/esame_30.6/MetodiAIFisica_ApplicazioniFisicheML_2025_ProvaPratica_30_6_2025.ipynb\" target=\"_parent\"><img src=\"https://colab.research.google.com/assets/colab-badge.svg\" alt=\"Open In Colab\"/></a>"
      ]
    },
    {
      "cell_type": "markdown",
      "source": [
        "# Prova Pratica - Metodi AI per la fisica e Applicazioni Fisiche al ML\n",
        "### 30.6.2026 - AA 2024/25 - Docenti: S. Giagu e A. Ciardiello\n",
        "\n",
        "---\n",
        "\n",
        "**Regole:**\n",
        "\n",
        "*   **tempo a disposizione:** 3.0h\n",
        "\n",
        "*   compilare con i vostri dati i campi della cella che segue e poi eseguire la cella verificando che i dati printati corrispondano. L'esecuzione della cella scarica contesualmente il dataset da utilizzare durante la prova;\n",
        "*   risolvere i quesiti/compiti indicati nella cella *Descrizione del compito*.\n",
        "*   una volta completato il compito scaricare il notebook in formato *.ipynb* e caricarlo usando il form:\n",
        "[consegna notebook](https://docs.google.com/forms/d/e/1FAIpQLSekkv2tTVIIAyY15lc3a4px_yjxoQJ6INr6CuWiXNw1GccJoQ/viewform?usp=dialog)<p>\n",
        "\n",
        "\n",
        "**NOTA 1:** per scaricare localmente il notebook da colab: menù **File->Dowload->Download .ipynb** (non è necessario cambiare il nome del file, il form associa automaticamnte il vostro nome / email al file che caricate)\n",
        "<p>\n",
        "\n",
        "**NOTA 2:** una volta caricato e sottomesso il notebook non sono più possibili ulteriori modifiche."
      ],
      "metadata": {
        "id": "bc9160FmJpVf"
      }
    },
    {
      "cell_type": "code",
      "source": [
        "#@ Dati Personali\n",
        "import os\n",
        "\n",
        "Nome = 'Stefano'  #@param {type: \"string\"}\n",
        "Cognome = 'Giagu' #@param {type: \"string\"}\n",
        "NumeroMatricola = 12345678 #@param {type: \"number\"}\n",
        "\n",
        "if NumeroMatricola == 12345678:\n",
        "  print('\\033[1;31m Inserisci il numero di matricola corretto!!!!')\n",
        "else:\n",
        "  print('Download datasets ...')\n",
        "  !wget http://giagu.web.cern.ch/giagu/CERN/gml_images.npz\n",
        "  !ls\n",
        "  print('Done')"
      ],
      "metadata": {
        "colab": {
          "base_uri": "https://localhost:8080/"
        },
        "cellView": "form",
        "id": "DNPSWZsGV0hy",
        "outputId": "982a7616-5343-4d64-d7bd-754006cf3ffe"
      },
      "execution_count": null,
      "outputs": [
        {
          "output_type": "stream",
          "name": "stdout",
          "text": [
            "\u001b[1;31m Inserisci il numero di matricola corretto!!!!\n"
          ]
        }
      ]
    },
    {
      "cell_type": "markdown",
      "source": [
        "# Descrizione del compito:\n",
        "\n",
        "Viene fornito un dataset in formato numpy compresso *gml_images.npz*, che contiene due array numpy:\n",
        "\n",
        "*   images: 20000 esempi di immagini di shape $(64,64)$;\n",
        "*   targets: 20000 target associati $y\\in R^1$.\n",
        "\n",
        "\n",
        "---\n",
        "\n",
        "**Svolgere i seguenti quesiti:**\n",
        "\n",
        "1. (Q0): leggere i due array e graficare 5 immagini con i target associati, formattati in una matrice di 3x3 plot\n",
        "2. (Q1): **allenare** un modello basato su architettura CNN che predica il target associato a ciascuna immagine, e stimarne le prestazioni nel modo che si ritiene più opporuno;\n",
        "3. (Q2): **allenare** la stessa architettura usata in Q1, modificata in modo da avere tutte le **attivazioni di tipo lineare**;\n",
        "4. (Q3): **allenare** la stessa architettura usata in Q1, (**utilizzando lo stesso numero di epoche utilizzate nel punto Q1**), modificata in modo da avere tutte le **attivazioni di tipo sigmoide**;\n",
        "5. (Q4): **allenare** la stessa architettura usata in Q1, ma inizializzando tutti i **pesi e i bias della rete ad un valore iniziale nullo (eg $=0.0$)**;\n",
        "5. (Q5): spiegare le differenze incontrate nelle quattro configurazioni Q1, Q2, Q3 e Q4.\n",
        "\n",
        "* commentare opportunamente i risultati ottenuti in ogni punto.\n",
        "\n",
        "**Consigli**:\n",
        "\n",
        "  1) R2 di Q1 va bene 0.7 (Non concentratevi a ottenere performance perfette)\n",
        "\n",
        "  2)Commentare la presenza/assenza di overfitting nelle diverse configurazini\n",
        "\n",
        "  3)Commentare la differenza di tempo necessario ad addestrare nelle diverse configurazioni\n",
        "\n",
        "  4) Per confrontare le diverse configurazioni tenete gli iperparametri fissati"
      ],
      "metadata": {
        "id": "IjeivMlvZdhd"
      }
    },
    {
      "cell_type": "code",
      "source": [
        "# Questa funzione inizializza a zero tutti i pesi di layer lineari e conv2D\n",
        "def zero_weights(model):\n",
        "    for module in model.modules():\n",
        "        if isinstance(module, (nn.Linear, nn.Conv2d)):\n",
        "            if module.weight is not None:\n",
        "                nn.init.constant_(module.weight, 0.0)\n",
        "            if module.bias is not None:\n",
        "                nn.init.constant_(module.bias, 0.0)"
      ],
      "metadata": {
        "id": "bE7YxA87V-EV"
      },
      "execution_count": null,
      "outputs": []
    },
    {
      "cell_type": "code",
      "source": [
        "#... codice ..."
      ],
      "metadata": {
        "id": "Gog0PCCgoTWO"
      },
      "execution_count": null,
      "outputs": []
    }
  ]
}