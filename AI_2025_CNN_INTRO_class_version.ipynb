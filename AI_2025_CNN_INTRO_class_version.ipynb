{
  "nbformat": 4,
  "nbformat_minor": 0,
  "metadata": {
    "colab": {
      "provenance": [],
      "authorship_tag": "ABX9TyPpo2v0zdFusR8/GUElE0sf",
      "include_colab_link": true
    },
    "kernelspec": {
      "name": "python3",
      "display_name": "Python 3"
    },
    "language_info": {
      "name": "python"
    }
  },
  "cells": [
    {
      "cell_type": "markdown",
      "metadata": {
        "id": "view-in-github",
        "colab_type": "text"
      },
      "source": [
        "<a href=\"https://colab.research.google.com/github/stefanogiagu/corso_AI_2025/blob/main/AI_2025_CNN_INTRO_class_version.ipynb\" target=\"_parent\"><img src=\"https://colab.research.google.com/assets/colab-badge.svg\" alt=\"Open In Colab\"/></a>"
      ]
    },
    {
      "cell_type": "markdown",
      "source": [
        "# First HandsOn with CNN!\n",
        "\n",
        "Slide for the day with the Task Description ([SLIDE](https://docs.google.com/presentation/d/1DCZn-I8bXQ_awkmR6I6u9be4MCHB0ljWTxBL9koOsXo/edit?usp=sharing))\n",
        "\n",
        "\n"
      ],
      "metadata": {
        "id": "Vc27WTxo1IH0"
      }
    },
    {
      "cell_type": "markdown",
      "source": [
        "# Connect your drive!"
      ],
      "metadata": {
        "id": "D3MrmZxh1z9M"
      }
    },
    {
      "cell_type": "code",
      "execution_count": null,
      "metadata": {
        "id": "G3_Mxb_zqvTp",
        "colab": {
          "base_uri": "https://localhost:8080/"
        },
        "outputId": "f0db7c29-1a7d-4b84-cf98-b1d914da6a51"
      },
      "outputs": [
        {
          "output_type": "stream",
          "name": "stdout",
          "text": [
            "Mounted at /content/gdrive/\n"
          ]
        }
      ],
      "source": [
        "from google.colab import drive\n",
        "\n",
        "drive.mount('/content/gdrive/', force_remount=True)"
      ]
    },
    {
      "cell_type": "markdown",
      "source": [
        "# Go to the RiNNgs folder!\n",
        "use the command \"cd\" to  change directory\n",
        "\n",
        "\n",
        "```\n",
        "cd \"directory\"\n",
        "```\n",
        "\n",
        "\n",
        "then use \"ls\" (list) to show the files in the folder\n",
        "\n",
        "## Are you in the correct directory?\n"
      ],
      "metadata": {
        "id": "1KHTVfZW174G"
      }
    },
    {
      "cell_type": "code",
      "source": [
        "!cd /content/gdrive/MyDrive/RiNNgs # this one may be different from mine"
      ],
      "metadata": {
        "id": "oBIaQZ0fsIEe"
      },
      "execution_count": null,
      "outputs": []
    },
    {
      "cell_type": "markdown",
      "source": [
        "# What's in the directory you are in?\n",
        "\n"
      ],
      "metadata": {
        "id": "upQmA7_62NnN"
      }
    },
    {
      "cell_type": "code",
      "source": [
        "ls"
      ],
      "metadata": {
        "id": "EazN_73MsYQ4",
        "colab": {
          "base_uri": "https://localhost:8080/"
        },
        "outputId": "eacdd22a-cc0a-4bda-cb79-704677a27593"
      },
      "execution_count": null,
      "outputs": [
        {
          "output_type": "stream",
          "name": "stdout",
          "text": [
            "\u001b[0m\u001b[01;34mgdrive\u001b[0m/  \u001b[01;34msample_data\u001b[0m/\n"
          ]
        }
      ]
    },
    {
      "cell_type": "code",
      "source": [
        "# we need to get some files from github\n",
        "import os\n",
        "success = os.path.exists(\"./data_preprocess.py\")\n",
        "if not success:\n",
        "\n",
        "  ! wget https://raw.githubusercontent.com/stefanogiagu/corso_AML_2023/main/notebooks/es1/data_preprocess.py"
      ],
      "metadata": {
        "colab": {
          "base_uri": "https://localhost:8080/"
        },
        "id": "B0-1m5mIejsu",
        "outputId": "98bef00f-15c8-4ed4-c0d6-e47b08162c6a"
      },
      "execution_count": null,
      "outputs": [
        {
          "output_type": "stream",
          "name": "stdout",
          "text": [
            "--2025-05-08 11:12:37--  https://raw.githubusercontent.com/stefanogiagu/corso_AML_2023/main/notebooks/es1/data_preprocess.py\n",
            "Resolving raw.githubusercontent.com (raw.githubusercontent.com)... 185.199.111.133, 185.199.108.133, 185.199.109.133, ...\n",
            "Connecting to raw.githubusercontent.com (raw.githubusercontent.com)|185.199.111.133|:443... connected.\n",
            "HTTP request sent, awaiting response... 200 OK\n",
            "Length: 14603 (14K) [text/plain]\n",
            "Saving to: ‘data_preprocess.py’\n",
            "\n",
            "\rdata_preprocess.py    0%[                    ]       0  --.-KB/s               \rdata_preprocess.py  100%[===================>]  14.26K  --.-KB/s    in 0.001s  \n",
            "\n",
            "2025-05-08 11:12:38 (9.86 MB/s) - ‘data_preprocess.py’ saved [14603/14603]\n",
            "\n"
          ]
        }
      ]
    },
    {
      "cell_type": "code",
      "source": [
        "ls"
      ],
      "metadata": {
        "colab": {
          "base_uri": "https://localhost:8080/"
        },
        "id": "0SC53DivhiGA",
        "outputId": "0c2b1603-feaa-4011-c61c-d8d2158a108a"
      },
      "execution_count": null,
      "outputs": [
        {
          "output_type": "stream",
          "name": "stdout",
          "text": [
            "data_preprocess.py  \u001b[0m\u001b[01;34mgdrive\u001b[0m/  \u001b[01;34msample_data\u001b[0m/\n"
          ]
        }
      ]
    },
    {
      "cell_type": "markdown",
      "source": [
        "# Lets create all the folders needed"
      ],
      "metadata": {
        "id": "3Z6ZhhX-2jBh"
      }
    },
    {
      "cell_type": "code",
      "source": [
        "import os\n",
        "def CreateDir(path):\n",
        "\t# Create a directory if it does not exist\n",
        "\tsuccess = os.path.exists(path)\n",
        "\tif not success:\n",
        "\t\tos.makedirs(path)\n",
        "CreateDir(\"results\")#\n",
        "CreateDir(\"results/display\")\n",
        "CreateDir(\"results/preprocess\")\n",
        "CreateDir(\"data\")"
      ],
      "metadata": {
        "id": "DJdxcqAC2hkl"
      },
      "execution_count": null,
      "outputs": []
    },
    {
      "cell_type": "code",
      "source": [
        "success = os.path.exists(\"data/event_08011.file\")\n",
        "if not success:\n",
        "  ! wget  https://raw.githubusercontent.com/stefanogiagu/corso_AML_2023/main/notebooks/es1/data/event_08011.file -P data/\n",
        "  ! wget -P data/ https://raw.githubusercontent.com/stefanogiagu/corso_AML_2023/main/notebooks/es1/data/RICH_map_corr_2017.data\n",
        "  ! wget -P data/ https://raw.githubusercontent.com/stefanogiagu/corso_AML_2023/main/notebooks/es1/data/data_08011.json"
      ],
      "metadata": {
        "colab": {
          "base_uri": "https://localhost:8080/"
        },
        "id": "58eY82emgMt6",
        "outputId": "ee96091a-f838-4ead-e8a6-e3f311dac2cc"
      },
      "execution_count": null,
      "outputs": [
        {
          "output_type": "stream",
          "name": "stdout",
          "text": [
            "--2025-05-08 11:12:43--  https://raw.githubusercontent.com/stefanogiagu/corso_AML_2023/main/notebooks/es1/data/event_08011.file\n",
            "Resolving raw.githubusercontent.com (raw.githubusercontent.com)... 185.199.108.133, 185.199.109.133, 185.199.110.133, ...\n",
            "Connecting to raw.githubusercontent.com (raw.githubusercontent.com)|185.199.108.133|:443... connected.\n",
            "HTTP request sent, awaiting response... 200 OK\n",
            "Length: 375770 (367K) [application/octet-stream]\n",
            "Saving to: ‘data/event_08011.file’\n",
            "\n",
            "event_08011.file    100%[===================>] 366.96K  --.-KB/s    in 0.05s   \n",
            "\n",
            "2025-05-08 11:12:44 (7.75 MB/s) - ‘data/event_08011.file’ saved [375770/375770]\n",
            "\n",
            "--2025-05-08 11:12:44--  https://raw.githubusercontent.com/stefanogiagu/corso_AML_2023/main/notebooks/es1/data/RICH_map_corr_2017.data\n",
            "Resolving raw.githubusercontent.com (raw.githubusercontent.com)... 185.199.108.133, 185.199.109.133, 185.199.110.133, ...\n",
            "Connecting to raw.githubusercontent.com (raw.githubusercontent.com)|185.199.108.133|:443... connected.\n",
            "HTTP request sent, awaiting response... 200 OK\n",
            "Length: 38897 (38K) [text/plain]\n",
            "Saving to: ‘data/RICH_map_corr_2017.data’\n",
            "\n",
            "RICH_map_corr_2017. 100%[===================>]  37.99K  --.-KB/s    in 0.01s   \n",
            "\n",
            "2025-05-08 11:12:44 (3.29 MB/s) - ‘data/RICH_map_corr_2017.data’ saved [38897/38897]\n",
            "\n",
            "--2025-05-08 11:12:44--  https://raw.githubusercontent.com/stefanogiagu/corso_AML_2023/main/notebooks/es1/data/data_08011.json\n",
            "Resolving raw.githubusercontent.com (raw.githubusercontent.com)... 185.199.108.133, 185.199.109.133, 185.199.110.133, ...\n",
            "Connecting to raw.githubusercontent.com (raw.githubusercontent.com)|185.199.108.133|:443... connected.\n",
            "HTTP request sent, awaiting response... 200 OK\n",
            "Length: 2992001 (2.9M) [text/plain]\n",
            "Saving to: ‘data/data_08011.json’\n",
            "\n",
            "data_08011.json     100%[===================>]   2.85M  --.-KB/s    in 0.08s   \n",
            "\n",
            "2025-05-08 11:12:44 (35.4 MB/s) - ‘data/data_08011.json’ saved [2992001/2992001]\n",
            "\n"
          ]
        }
      ]
    },
    {
      "cell_type": "markdown",
      "source": [
        "# We need to build the dataset.\n",
        "How can we call a python code from a notebook script?\n",
        "\n",
        "Use the command\n",
        "\n",
        "\n",
        "```\n",
        "! python script.py ARG1,ARG2,...,ARGN\n",
        "```\n",
        "\n",
        "to call the \"data_preprocess.py\" that will find the run 0811 and form 16x16 images from it.\n",
        "\n",
        "arguments are \"08011 Conv 16 np_reco 0\"\n",
        "\n",
        "**Ignore all the warnings and the tensorflow calls. This function is doing a lot more than what we need**"
      ],
      "metadata": {
        "id": "giJtVnUQAOBJ"
      }
    },
    {
      "cell_type": "code",
      "source": [
        "! python data_preprocess.py 08011 Conv 16 np_reco 0"
      ],
      "metadata": {
        "id": "MCSz5yNYsrcP",
        "colab": {
          "base_uri": "https://localhost:8080/"
        },
        "outputId": "97413fc6-5fd1-4113-c17b-0c052c25ad28"
      },
      "execution_count": null,
      "outputs": [
        {
          "output_type": "stream",
          "name": "stdout",
          "text": [
            "2025-05-08 11:12:51.743129: E external/local_xla/xla/stream_executor/cuda/cuda_fft.cc:477] Unable to register cuFFT factory: Attempting to register factory for plugin cuFFT when one has already been registered\n",
            "WARNING: All log messages before absl::InitializeLog() is called are written to STDERR\n",
            "E0000 00:00:1746702771.768613     903 cuda_dnn.cc:8310] Unable to register cuDNN factory: Attempting to register factory for plugin cuDNN when one has already been registered\n",
            "E0000 00:00:1746702771.776482     903 cuda_blas.cc:1418] Unable to register cuBLAS factory: Attempting to register factory for plugin cuBLAS when one has already been registered\n",
            "2025-05-08 11:12:51.802593: I tensorflow/core/platform/cpu_feature_guard.cc:210] This TensorFlow binary is optimized to use available CPU instructions in performance-critical operations.\n",
            "To enable the following instructions: AVX2 FMA, in other operations, rebuild TensorFlow with the appropriate compiler flags.\n",
            "*************************\n",
            "*  Data Pre-Processing  *\n",
            "*************************\n",
            "Dataset = 08011\n",
            "Model   = Conv\n",
            "Size    = 16\n",
            "Label   = np_reco\n",
            "Shuffle = 0\n",
            "Getting data for label np_reco\n",
            "Loading data/data_08011.json\n",
            " 20000 items in list hitlist\n",
            " 20000 items in list np_track\n",
            " 20000 items in list np_reco\n",
            " 20000 items in list np_gpu\n",
            " 20000 items in list ne_eop\n",
            " 20000 items in list ne_track\n",
            " 20000 items in list ne_reco\n",
            " 20000 items in list ne_gpu\n",
            "Processing selected label (np_reco)\n",
            "Example data\n",
            "*************\n",
            "Event      0\n",
            "*************\n",
            "   hitlist: ['1499', '1308', '1384', '1026', '1956', '1990', '1685', '1710', '310', '305', '177', '136', '244', '37', '79', '776', '718', '667', '670', '711', '713', '716', '747', '753', '748', '754', '751', '568', '569', '574', '636', '571', '594', '599', '631', '1458']\n",
            "  np_track: 1\n",
            "   np_reco: 2\n",
            "    np_gpu: -1\n",
            "    ne_eop: 0\n",
            "  ne_track: 2\n",
            "   ne_reco: 1\n",
            "    ne_gpu: -1\n",
            "Array\n",
            "[1499. 1308. 1384. 1026. 1956. 1990. 1685. 1710.  310.  305.  177.  136.\n",
            "  244.   37.   79.  776.  718.  667.  670.  711.  713.  716.  747.  753.\n",
            "  748.  754.  751.  568.  569.  574.  636.  571.  594.  599.  631. 1458.\n",
            "    0.    0.    0.    0.    0.    0.    0.    0.    0.    0.    0.    0.\n",
            "    0.    0.    0.    0.    0.    0.    0.    0.    0.    0.    0.    0.\n",
            "    0.    0.    0.    0.]\n",
            "Feature preprocessed\n",
            "[1499. 1308. 1384. 1026. 1956. 1990. 1685. 1710.  310.  305.  177.  136.\n",
            "  244.   37.   79.  776.  718.  667.  670.  711.  713.  716.  747.  753.\n",
            "  748.  754.  751.  568.  569.  574.  636.  571.  594.  599.  631. 1458.\n",
            "    0.    0.    0.    0.    0.    0.    0.    0.    0.    0.    0.    0.\n",
            "    0.    0.    0.    0.    0.    0.    0.    0.    0.    0.    0.    0.\n",
            "    0.    0.    0.    0.]\n",
            "<class 'numpy.ndarray'>\n",
            "(20000, 64)\n",
            "<class 'numpy.ndarray'>\n",
            "(20000, 4)\n",
            "X_SHAPE\n",
            "(20000, 64)\n",
            "X_SHAPE[0]\n",
            "20000\n",
            "Y_SHAPE\n",
            "(20000, 4)\n",
            "Preprocessing data from dataset 08011 for model Convof size  16\n",
            "Image 16 x 16  = 256 pixels\n",
            "X  max 150.050  min -493.980  range 644.030 bin 40.252 \n",
            "Y  max 286.740  min -316.140  range 602.880 bin 37.680 \n",
            "FILE MAP: data/RICH_map_corr_2017.data\n",
            "[ 114.05  105.05  114.05 ... -484.98 -493.98  -79.98]\n",
            "[ 135.92  120.34  104.75 ...  -87.38 -102.97 -102.97]\n",
            "[   0    1    2 ... 2022 2023 2031]\n",
            "[0.94410198 0.93012748 0.94410198 ... 0.0139745  0.         0.6428272 ]\n",
            "[0.74983413 0.72399151 0.6981323  ... 0.37944533 0.35358612 0.35358612]\n",
            "[14 14 14 ... -1 -1 -1]\n",
            "[11 11 10 ... -1 -1 -1]\n",
            "Imager map ready at results/display/imagerMap_human.txt (human format)\n",
            "Imager map ready at results/display/imagerMap.txt (computer format)\n",
            "processing image      0\n",
            "Images shape:\n",
            "(16, 16)\n",
            "Number of images:\n",
            "20000\n",
            "File results/preprocess/prova16.pdf ready\n",
            "Imager statistics ready at results/display/imagerCounts.txt\n",
            "Validation: X=(20000, 16, 16), y=(20000, 4)\n",
            "Data saved in results/preprocess/\n"
          ]
        }
      ]
    },
    {
      "cell_type": "markdown",
      "source": [
        "# Where are our files?\n",
        "\n",
        "The script will write two files in the results/preprocess folder that we created before.\n",
        "\n",
        "Check if you can find the files and that  *x_all_** is the rigth size (around 40 MB)\n",
        "\n",
        "Use the command\n",
        "\n",
        "\n",
        "```\n",
        "ls -lh \"path\"\n",
        "```\n",
        "\n"
      ],
      "metadata": {
        "id": "9f16XiFJB9bP"
      }
    },
    {
      "cell_type": "code",
      "source": [
        "! ls -lh  results/preprocess/"
      ],
      "metadata": {
        "id": "zmVx_yz3vnsJ",
        "colab": {
          "base_uri": "https://localhost:8080/"
        },
        "outputId": "35807ca7-b705-42bf-90df-7051562ee95e"
      },
      "execution_count": null,
      "outputs": [
        {
          "output_type": "stream",
          "name": "stdout",
          "text": [
            "total 40M\n",
            "-rw-r--r-- 1 root root  38K May  8 11:13 prova16.pdf\n",
            "-rw-r--r-- 1 root root  40M May  8 11:13 x_all_08011.npy\n",
            "-rw-r--r-- 1 root root 626K May  8 11:13 y_all_08011.npy\n"
          ]
        }
      ]
    },
    {
      "cell_type": "markdown",
      "source": [
        "# Read the data, check the data format, print an element.\n",
        "\n",
        "\n",
        "*   Load the data with np.load\n",
        "*   Print the data shape\n",
        "*   Check the variable type\n",
        "*   Use plt.matshow() to print an element\n",
        "\n"
      ],
      "metadata": {
        "id": "lhRi7IqxExEp"
      }
    },
    {
      "cell_type": "code",
      "source": [
        "import numpy as np\n",
        "dataset = \"08011\"\n",
        "x_all =  np.load( 'results/preprocess/' + 'x_all_{}.npy'.format(dataset))\n",
        "y_all = np.load('results/preprocess/' + 'y_all_{}.npy'.format(dataset))\n"
      ],
      "metadata": {
        "id": "4U6zPqehCrSs"
      },
      "execution_count": null,
      "outputs": []
    },
    {
      "cell_type": "code",
      "source": [
        "#PRINT INFO ABOUT THE DATASET\n",
        "#REPLACEME\n",
        "print(x_all.shape)\n",
        "type(x_all[0,0,0])"
      ],
      "metadata": {
        "id": "iMu6kRcoFm6C",
        "colab": {
          "base_uri": "https://localhost:8080/"
        },
        "outputId": "62f00a64-71fd-4f1d-b4f0-9579b7b5c3b2"
      },
      "execution_count": null,
      "outputs": [
        {
          "output_type": "stream",
          "name": "stdout",
          "text": [
            "(20000, 16, 16)\n"
          ]
        },
        {
          "output_type": "execute_result",
          "data": {
            "text/plain": [
              "numpy.float64"
            ]
          },
          "metadata": {},
          "execution_count": 11
        }
      ]
    },
    {
      "cell_type": "code",
      "source": [
        "import matplotlib.pyplot as plt\n",
        "to_plot = 10\n",
        "def plot_example(image,lab):\n",
        "  f,ax = plt.subplots(1,1,figsize=(5,5))\n",
        "  ax.matshow(image)\n",
        "  ax.set_title(\"An example of class {}\".format(np.argmax(lab)),fontsize=30)\n",
        "  print(np.unique(image))\n",
        "plot_example(x_all[to_plot,:,:],y_all[to_plot])"
      ],
      "metadata": {
        "id": "iULWnY-eGL9k",
        "colab": {
          "base_uri": "https://localhost:8080/",
          "height": 510
        },
        "outputId": "6986c245-b691-4064-cac8-c0e9a00e8c1c"
      },
      "execution_count": null,
      "outputs": [
        {
          "output_type": "stream",
          "name": "stdout",
          "text": [
            "[0. 1. 2.]\n"
          ]
        },
        {
          "output_type": "display_data",
          "data": {
            "text/plain": [
              "<Figure size 500x500 with 1 Axes>"
            ],
            "image/png": "[encoded data removed]"
          },
          "metadata": {}
        }
      ]
    },
    {
      "cell_type": "code",
      "source": [],
      "metadata": {
        "id": "aXgl6Q0KuUtY"
      },
      "execution_count": null,
      "outputs": []
    }
  ]
}