{
  "nbformat": 4,
  "nbformat_minor": 0,
  "metadata": {
    "colab": {
      "provenance": [],
      "gpuType": "T4",
      "include_colab_link": true
    },
    "kernelspec": {
      "name": "python3",
      "display_name": "Python 3"
    },
    "language_info": {
      "name": "python"
    },
    "accelerator": "GPU"
  },
  "cells": [
    {
      "cell_type": "markdown",
      "metadata": {
        "id": "view-in-github",
        "colab_type": "text"
      },
      "source": [
        "<a href=\"https://colab.research.google.com/github/stefanogiagu/corso_AI_2025/blob/main/esame_18.7/MetodiAIFisica_ApplicazioniFisicheML_2025_ProvaPratica_18_7_2025.ipynb\" target=\"_parent\"><img src=\"https://colab.research.google.com/assets/colab-badge.svg\" alt=\"Open In Colab\"/></a>"
      ]
    },
    {
      "cell_type": "markdown",
      "source": [
        "# Prova Pratica - Metodi AI per la fisica e Applicazioni Fisiche al ML\n",
        "### 18.7.2026 - AA 2024/25 - Docenti: S. Giagu e A. Ciardiello\n",
        "\n",
        "---\n",
        "\n",
        "**Regole:**\n",
        "\n",
        "*   **tempo a disposizione:** 3.0h\n",
        "\n",
        "*   compilare con i vostri dati i campi della cella che segue e poi eseguire la cella verificando che i dati printati corrispondano.\n",
        "*   risolvere i quesiti/compiti indicati nella cella *Descrizione del compito*.\n",
        "*   una volta completato il compito scaricare il notebook in formato *.ipynb* e caricarlo **usando il google form**:\n",
        "[consegna notebook](https://docs.google.com/forms/d/e/1FAIpQLSegMZ0wnHsenyzo473GV2TUn6ABnFKuJxEHd1Gf0DSMAAMEsA/viewform?usp=dialog)<p>\n",
        "\n",
        "\n",
        "**NOTA:** una volta caricato e sottomesso il notebook non sono più possibili ulteriori modifiche."
      ],
      "metadata": {
        "id": "bc9160FmJpVf"
      }
    },
    {
      "cell_type": "code",
      "source": [
        "#@ Dati Personali\n",
        "import os\n",
        "\n",
        "Nome = 'Stefano'  #@param {type: \"string\"}\n",
        "Cognome = 'Giagu' #@param {type: \"string\"}\n",
        "NumeroMatricola = 12345678 #@param {type: \"number\"}\n",
        "\n",
        "if NumeroMatricola == 12345678:\n",
        "  print('\\033[1;31m Inserisci il numero di matricola corretto!!!!')\n",
        "else:\n",
        "  print('\\033[1;31m Done')"
      ],
      "metadata": {
        "colab": {
          "base_uri": "https://localhost:8080/"
        },
        "cellView": "form",
        "id": "DNPSWZsGV0hy",
        "outputId": "3cff4f5e-c69c-4f76-d539-11c7e4c0cc06"
      },
      "execution_count": null,
      "outputs": [
        {
          "output_type": "stream",
          "name": "stdout",
          "text": [
            "\u001b[1;31m Inserisci il numero di matricola corretto!!!!\n"
          ]
        }
      ]
    },
    {
      "cell_type": "markdown",
      "source": [
        "# Descrizione del compito:\n",
        "\n",
        "**Svolgere i seguenti quesiti:**\n",
        "\n",
        "1. (Q1): scaricare il dataset MNIST nel modo che si ritiene più opportuno, e graficare un'immagine per ciascuna delle cifre da 0 a 9, formattando le immagini in una matrice di due righe per cinque immagini, riportando sopra ogni immagine la label associata;\n",
        "2. (Q2): allenare un modello basato su architettura CNN che predica se l'immagine del numero in input è un numero pari o dispari. Allenare il modello per 20 epoche di training, salvando ad ogni epoca tutti i pesi del modello. NOTA: utilizzare 7000 immagini per il training, per mantenere i tempi di addestramento limitati;\n",
        "3. (Q3): ripetere il task Q2, nelle stesse condizioni, scambiando nella rete neurale l'ordine tra attivazione e Conv2d e tra attivazione e Linear (*esempio: Conv2d, ReLU -->  ReLU, Conv2d*). Spiegare i risultati ottenuti;\n",
        "4. (Q4): allenare altri 4 modelli con la stessa architettura usata in Q2, usando per e dei minibtach ciascuno una diversa inizializzazione dei pesi del campione di training. Stimare l'accuracy media e l'inceretezza sull'accuracy media dell'ensamble di modelli allenati in Q2 e Q4;\n",
        "5. (Q5): graficare la dinamica di training dei modelli dell'ensamble (modello allenato in Q2 e modelli allenati in Q4), graficando la traiettoria di training di ciascun modello nello spazio PCA: per ogni modello graficare un punto nello spazio (PCA[0],PCA[1]) per ogni epoca di allenamento, colorando i punti di ciascuna epoca con una mappa di colori dal piu scuro (prima epoca) al più chiaro (ultima epoca). Commentare quanto ottenuto;\n",
        "6. (Q6): prendere i pesi salvati del primo modello (quello allenato in Q2), e ripetere il calcolo della PCA, come nel punto Q5, per 3 volte, permutando ogni volta in modo casuale l'ordine delle epoche. Graficare le traiettorie ottenute nello spazio (PCA[0],PCA[1]). Spiegare quanto ottenuto.\n",
        "\n",
        "* commentare opportunamente i risultati ottenuti in ogni punto."
      ],
      "metadata": {
        "id": "IjeivMlvZdhd"
      }
    },
    {
      "cell_type": "code",
      "source": [
        "#... codice ..."
      ],
      "metadata": {
        "id": "Gog0PCCgoTWO"
      },
      "execution_count": null,
      "outputs": []
    }
  ]
}