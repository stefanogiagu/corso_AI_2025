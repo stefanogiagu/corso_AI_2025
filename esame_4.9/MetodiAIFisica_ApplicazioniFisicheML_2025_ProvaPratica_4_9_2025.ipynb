{
  "nbformat": 4,
  "nbformat_minor": 0,
  "metadata": {
    "colab": {
      "provenance": [],
      "authorship_tag": "ABX9TyMBlgfuQZCkzmYHYq9YK9K6",
      "include_colab_link": true
    },
    "kernelspec": {
      "name": "python3",
      "display_name": "Python 3"
    },
    "language_info": {
      "name": "python"
    }
  },
  "cells": [
    {
      "cell_type": "markdown",
      "metadata": {
        "id": "view-in-github",
        "colab_type": "text"
      },
      "source": [
        "<a href=\"https://colab.research.google.com/github/stefanogiagu/corso_AI_2025/blob/main/esame_4.9/MetodiAIFisica_ApplicazioniFisicheML_2025_ProvaPratica_4_9_2025.ipynb\" target=\"_parent\"><img src=\"https://colab.research.google.com/assets/colab-badge.svg\" alt=\"Open In Colab\"/></a>"
      ]
    },
    {
      "cell_type": "markdown",
      "source": [
        "# Prova Pratica - Metodi AI per la fisica e Applicazioni Fisiche al ML\n",
        "### 4.9.2026 - AA 2024/25 - Docenti: S. Giagu e A. Ciardiello\n",
        "\n",
        "---\n",
        "\n",
        "**Regole:**\n",
        "\n",
        "*   **tempo a disposizione:** 3.0h\n",
        "\n",
        "*   compilare con i vostri dati i campi della cella che segue e poi eseguire la cella verificando che i dati printati corrispondano.\n",
        "*   risolvere i quesiti/compiti indicati nella cella *Descrizione del compito*.\n",
        "*   una volta completato il compito scaricare il notebook in formato *.ipynb* e caricarlo **usando il google form**:\n",
        "[consegna notebook](https://docs.google.com/forms/d/e/1FAIpQLSclIxcSFvv9hGKDknClTXHi9hlY3lPgYlj3rGlN3a2UoZagjg/viewform?usp=sharing&ouid=116129231158107005144)<p>\n",
        "\n",
        "\n",
        "**NOTA:** una volta caricato e sottomesso il notebook non sono più possibili ulteriori modifiche."
      ],
      "metadata": {
        "id": "9aWym3b7qNGm"
      }
    },
    {
      "cell_type": "markdown",
      "source": [
        "# Descrizione del compito:\n",
        "\n",
        "**Svolgere i seguenti quesiti:**\n",
        "\n",
        "1. (Q1): progettare e allenare un modello basato su MLP, che prenda in input due numeri interi di due cifre [10, ..., 99] e predica le 4 cifre del risultato del prodotto dei due numeri.\n",
        "2. (Q2): valutare le prestazioni del modello rispetto alle due seguenti metriche:\n",
        "\n",
        "> *   accuracy esatta del risultato predetto dal modello (tutte le cifre corette)\n",
        "> *   accuarcy a livello di digit (percentuale di singoli digit correttamente predetti dal modello).\n",
        "\n",
        "3. (Q3) produrre una analisi delle prestazioni del modello al variare della profondità del MLP utilizzato: 1, 2, 3 e 4 layer.\n",
        "\n",
        "4. (Q4) risolvere lo stesso problema usando una RandomForest (usando la libreria scikit-learn) con stesse feature e target, e confrontare le prestazioni con quelle ottenute dal modello Q1 e commentare i risultati.\n",
        "\n",
        "\n",
        "* commentare opportunamente i risultati ottenuti in ogni punto."
      ],
      "metadata": {
        "id": "fWL2Z7_DqT7_"
      }
    },
    {
      "cell_type": "code",
      "execution_count": null,
      "metadata": {
        "id": "aYiSz567qKT1"
      },
      "outputs": [],
      "source": [
        "#codice ..."
      ]
    }
  ]
}